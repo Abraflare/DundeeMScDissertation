{
 "cells": [
  {
   "cell_type": "code",
   "execution_count": 1,
   "metadata": {},
   "outputs": [
    {
     "name": "stdout",
     "output_type": "stream",
     "text": [
      "Using PyTorch Version 1.3.1\n"
     ]
    }
   ],
   "source": [
    "import torch\n",
    "import torch.nn as nn\n",
    "import matplotlib.pyplot as plt\n",
    "from sklearn.model_selection import train_test_split\n",
    "import numpy as np\n",
    "import pandas as pd\n",
    "%matplotlib inline\n",
    "print(\"Using PyTorch Version %s\" %torch.__version__)"
   ]
  },
  {
   "cell_type": "code",
   "execution_count": 2,
   "metadata": {},
   "outputs": [
    {
     "data": {
      "text/html": [
       "<div>\n",
       "<style scoped>\n",
       "    .dataframe tbody tr th:only-of-type {\n",
       "        vertical-align: middle;\n",
       "    }\n",
       "\n",
       "    .dataframe tbody tr th {\n",
       "        vertical-align: top;\n",
       "    }\n",
       "\n",
       "    .dataframe thead th {\n",
       "        text-align: right;\n",
       "    }\n",
       "</style>\n",
       "<table border=\"1\" class=\"dataframe\">\n",
       "  <thead>\n",
       "    <tr style=\"text-align: right;\">\n",
       "      <th></th>\n",
       "      <th>FieldZoneID</th>\n",
       "      <th>PlayTypeID</th>\n",
       "      <th>ConditionTypeID</th>\n",
       "      <th>SpeedID</th>\n",
       "      <th>StadiumID</th>\n",
       "      <th>SurfaceTypeID</th>\n",
       "      <th>Shotgun</th>\n",
       "      <th>AtHome</th>\n",
       "      <th>QBisRookie</th>\n",
       "      <th>Down</th>\n",
       "      <th>...</th>\n",
       "      <th>SecondsInQuarterBucketID</th>\n",
       "      <th>MinutesLeftInQuarter</th>\n",
       "      <th>SecondsInHalfBucketID</th>\n",
       "      <th>SecondsInGameBucketID</th>\n",
       "      <th>GameQuarter</th>\n",
       "      <th>OffensePointsBucketID</th>\n",
       "      <th>DefensePointsBucketID</th>\n",
       "      <th>PointsDifferenceBucketID</th>\n",
       "      <th>OffenseWinLossRatio</th>\n",
       "      <th>DefenseWinLossRatio</th>\n",
       "    </tr>\n",
       "  </thead>\n",
       "  <tbody>\n",
       "    <tr>\n",
       "      <th>0</th>\n",
       "      <td>3</td>\n",
       "      <td>0</td>\n",
       "      <td>6</td>\n",
       "      <td>2</td>\n",
       "      <td>61</td>\n",
       "      <td>1</td>\n",
       "      <td>0</td>\n",
       "      <td>1</td>\n",
       "      <td>0</td>\n",
       "      <td>2</td>\n",
       "      <td>...</td>\n",
       "      <td>2</td>\n",
       "      <td>8</td>\n",
       "      <td>5</td>\n",
       "      <td>5</td>\n",
       "      <td>3</td>\n",
       "      <td>6</td>\n",
       "      <td>7</td>\n",
       "      <td>4</td>\n",
       "      <td>0</td>\n",
       "      <td>0</td>\n",
       "    </tr>\n",
       "    <tr>\n",
       "      <th>1</th>\n",
       "      <td>1</td>\n",
       "      <td>0</td>\n",
       "      <td>6</td>\n",
       "      <td>2</td>\n",
       "      <td>61</td>\n",
       "      <td>1</td>\n",
       "      <td>0</td>\n",
       "      <td>0</td>\n",
       "      <td>0</td>\n",
       "      <td>1</td>\n",
       "      <td>...</td>\n",
       "      <td>2</td>\n",
       "      <td>7</td>\n",
       "      <td>5</td>\n",
       "      <td>5</td>\n",
       "      <td>3</td>\n",
       "      <td>7</td>\n",
       "      <td>6</td>\n",
       "      <td>7</td>\n",
       "      <td>0</td>\n",
       "      <td>0</td>\n",
       "    </tr>\n",
       "    <tr>\n",
       "      <th>2</th>\n",
       "      <td>1</td>\n",
       "      <td>0</td>\n",
       "      <td>6</td>\n",
       "      <td>2</td>\n",
       "      <td>61</td>\n",
       "      <td>1</td>\n",
       "      <td>0</td>\n",
       "      <td>0</td>\n",
       "      <td>0</td>\n",
       "      <td>2</td>\n",
       "      <td>...</td>\n",
       "      <td>2</td>\n",
       "      <td>7</td>\n",
       "      <td>5</td>\n",
       "      <td>5</td>\n",
       "      <td>3</td>\n",
       "      <td>7</td>\n",
       "      <td>6</td>\n",
       "      <td>7</td>\n",
       "      <td>0</td>\n",
       "      <td>0</td>\n",
       "    </tr>\n",
       "  </tbody>\n",
       "</table>\n",
       "<p>3 rows × 22 columns</p>\n",
       "</div>"
      ],
      "text/plain": [
       "   FieldZoneID  PlayTypeID  ConditionTypeID  SpeedID  StadiumID  \\\n",
       "0            3           0                6        2         61   \n",
       "1            1           0                6        2         61   \n",
       "2            1           0                6        2         61   \n",
       "\n",
       "   SurfaceTypeID  Shotgun  AtHome  QBisRookie  Down  ...  \\\n",
       "0              1        0       1           0     2  ...   \n",
       "1              1        0       0           0     1  ...   \n",
       "2              1        0       0           0     2  ...   \n",
       "\n",
       "   SecondsInQuarterBucketID  MinutesLeftInQuarter  SecondsInHalfBucketID  \\\n",
       "0                         2                     8                      5   \n",
       "1                         2                     7                      5   \n",
       "2                         2                     7                      5   \n",
       "\n",
       "   SecondsInGameBucketID  GameQuarter  OffensePointsBucketID  \\\n",
       "0                      5            3                      6   \n",
       "1                      5            3                      7   \n",
       "2                      5            3                      7   \n",
       "\n",
       "   DefensePointsBucketID  PointsDifferenceBucketID  OffenseWinLossRatio  \\\n",
       "0                      7                         4                    0   \n",
       "1                      6                         7                    0   \n",
       "2                      6                         7                    0   \n",
       "\n",
       "   DefenseWinLossRatio  \n",
       "0                    0  \n",
       "1                    0  \n",
       "2                    0  \n",
       "\n",
       "[3 rows x 22 columns]"
      ]
     },
     "execution_count": 2,
     "metadata": {},
     "output_type": "execute_result"
    }
   ],
   "source": [
    "import pyodbc\n",
    "sql_conn = pyodbc.connect('DRIVER={ODBC Driver 13 for SQL Server};SERVER=localhost\\\\uni;DATABASE=NFL_Prediction;Trusted_Connection=yes')\n",
    "query = \"\"\"\n",
    "SELECT \n",
    "      [FieldZoneID]\n",
    "      ,PlayTypeID - 1 as PlayTypeID\n",
    "      ,[ConditionTypeID]\n",
    "      ,[SpeedID]\n",
    "      ,[StadiumID]\n",
    "      ,surf.[SurfaceTypeID]\n",
    "      ,cast([Shotgun] as int) as Shotgun\n",
    "      ,cast([AtHome] as int) as AtHome\n",
    "      ,cast([QBisRookie] as int) as QBisRookie\n",
    "      ,[Down]\n",
    "      ,CASE\n",
    "            WHEN yardsToGo < 11 THEN 1\n",
    "            WHEN yardsToGo < 15 THEN 2\n",
    "            WHEN yardsToGo < 20 THEN 3\n",
    "            WHEN yardsToGo < 30 THEN 4\n",
    "            ELSE 5\n",
    "       END as yardsToGoBucket\n",
    "      ,[TimeoutsLeft]\n",
    "      ,qsb.SecondsBucketID as SecondsInQuarterBucketID\n",
    "      ,[SecondsLeftInQuarter]/60 as [MinutesLeftInQuarter]\n",
    "      ,hsb.SecondsBucketID as SecondsInHalfBucketID\n",
    "      ,gsb.SecondsBucketID as SecondsInGameBucketID\n",
    "      ,[GameQuarter]\n",
    "      ,opb.PointsBucketID as OffensePointsBucketID\n",
    "      ,dpb.PointsBucketID as DefensePointsBucketID\n",
    "      ,pdb.PointsBucketID as PointsDifferenceBucketID\n",
    "      ,p.OffenseWinLossRatio\n",
    "      ,p.DefenseWinLossRatio\n",
    "  FROM [NFL_Prediction].[nfl].[f_play] p\n",
    "  INNER JOIN [NFL_Prediction].[nfl].[d_team] o on p.OffenseID = o.TeamID\n",
    "  INNER JOIN [NFL_Prediction].[nfl].[d_team] d on p.DefenceID = d.TeamID\n",
    "  INNER JOIN [NFL_Prediction].[nfl].[d_weather] w on p.WeatherID = w.WeatherID\n",
    "  INNER JOIN [NFL_Prediction].[nfl].[d_surface] surf on p.SurfaceID = surf.SurfaceID\n",
    "  INNER JOIN [NFL_Prediction].[nfl].[d_seconds_buckets] qsb on p.SecondsLeftInQuarterBucketID = qsb.SecondsBucketID\n",
    "  INNER JOIN [NFL_Prediction].[nfl].[d_seconds_buckets] hsb on p.SecondsLeftInHalfBucketID = hsb.SecondsBucketID\n",
    "  INNER JOIN [NFL_Prediction].[nfl].[d_seconds_buckets] gsb on p.SecondsLeftInHalfBucketID = gsb.SecondsBucketID\n",
    "  INNER JOIN [NFL_Prediction].[nfl].[d_points_buckets] opb on p.OffensePointsBucketID = opb.PointsBucketID\n",
    "  INNER JOIN [NFL_Prediction].[nfl].[d_points_buckets] dpb on p.DefensePointsBucketID = dpb.PointsBucketID\n",
    "  INNER JOIN [NFL_Prediction].[nfl].[d_points_buckets] pdb on p.PointsDifferenceBucketID = pdb.PointsBucketID\n",
    "  where MainPlayerID is not null\n",
    "\"\"\"\n",
    "df = pd.read_sql(query, sql_conn)\n",
    "df.head(3)"
   ]
  },
  {
   "cell_type": "code",
   "execution_count": 3,
   "metadata": {},
   "outputs": [
    {
     "data": {
      "text/html": [
       "<div>\n",
       "<style scoped>\n",
       "    .dataframe tbody tr th:only-of-type {\n",
       "        vertical-align: middle;\n",
       "    }\n",
       "\n",
       "    .dataframe tbody tr th {\n",
       "        vertical-align: top;\n",
       "    }\n",
       "\n",
       "    .dataframe thead th {\n",
       "        text-align: right;\n",
       "    }\n",
       "</style>\n",
       "<table border=\"1\" class=\"dataframe\">\n",
       "  <thead>\n",
       "    <tr style=\"text-align: right;\">\n",
       "      <th></th>\n",
       "      <th>FieldZoneID</th>\n",
       "      <th>ConditionTypeID</th>\n",
       "      <th>SpeedID</th>\n",
       "      <th>StadiumID</th>\n",
       "      <th>SurfaceTypeID</th>\n",
       "      <th>Shotgun</th>\n",
       "      <th>AtHome</th>\n",
       "      <th>QBisRookie</th>\n",
       "      <th>Down</th>\n",
       "      <th>yardsToGoBucket</th>\n",
       "      <th>...</th>\n",
       "      <th>SecondsInQuarterBucketID</th>\n",
       "      <th>MinutesLeftInQuarter</th>\n",
       "      <th>SecondsInHalfBucketID</th>\n",
       "      <th>SecondsInGameBucketID</th>\n",
       "      <th>GameQuarter</th>\n",
       "      <th>OffensePointsBucketID</th>\n",
       "      <th>DefensePointsBucketID</th>\n",
       "      <th>PointsDifferenceBucketID</th>\n",
       "      <th>OffenseWinLossRatio</th>\n",
       "      <th>DefenseWinLossRatio</th>\n",
       "    </tr>\n",
       "  </thead>\n",
       "  <tbody>\n",
       "    <tr>\n",
       "      <th>0</th>\n",
       "      <td>3</td>\n",
       "      <td>6</td>\n",
       "      <td>2</td>\n",
       "      <td>61</td>\n",
       "      <td>1</td>\n",
       "      <td>0</td>\n",
       "      <td>1</td>\n",
       "      <td>0</td>\n",
       "      <td>2</td>\n",
       "      <td>1</td>\n",
       "      <td>...</td>\n",
       "      <td>2</td>\n",
       "      <td>8</td>\n",
       "      <td>5</td>\n",
       "      <td>5</td>\n",
       "      <td>3</td>\n",
       "      <td>6</td>\n",
       "      <td>7</td>\n",
       "      <td>4</td>\n",
       "      <td>0</td>\n",
       "      <td>0</td>\n",
       "    </tr>\n",
       "    <tr>\n",
       "      <th>1</th>\n",
       "      <td>1</td>\n",
       "      <td>6</td>\n",
       "      <td>2</td>\n",
       "      <td>61</td>\n",
       "      <td>1</td>\n",
       "      <td>0</td>\n",
       "      <td>0</td>\n",
       "      <td>0</td>\n",
       "      <td>1</td>\n",
       "      <td>1</td>\n",
       "      <td>...</td>\n",
       "      <td>2</td>\n",
       "      <td>7</td>\n",
       "      <td>5</td>\n",
       "      <td>5</td>\n",
       "      <td>3</td>\n",
       "      <td>7</td>\n",
       "      <td>6</td>\n",
       "      <td>7</td>\n",
       "      <td>0</td>\n",
       "      <td>0</td>\n",
       "    </tr>\n",
       "    <tr>\n",
       "      <th>2</th>\n",
       "      <td>1</td>\n",
       "      <td>6</td>\n",
       "      <td>2</td>\n",
       "      <td>61</td>\n",
       "      <td>1</td>\n",
       "      <td>0</td>\n",
       "      <td>0</td>\n",
       "      <td>0</td>\n",
       "      <td>2</td>\n",
       "      <td>1</td>\n",
       "      <td>...</td>\n",
       "      <td>2</td>\n",
       "      <td>7</td>\n",
       "      <td>5</td>\n",
       "      <td>5</td>\n",
       "      <td>3</td>\n",
       "      <td>7</td>\n",
       "      <td>6</td>\n",
       "      <td>7</td>\n",
       "      <td>0</td>\n",
       "      <td>0</td>\n",
       "    </tr>\n",
       "  </tbody>\n",
       "</table>\n",
       "<p>3 rows × 21 columns</p>\n",
       "</div>"
      ],
      "text/plain": [
       "   FieldZoneID  ConditionTypeID  SpeedID  StadiumID  SurfaceTypeID  Shotgun  \\\n",
       "0            3                6        2         61              1        0   \n",
       "1            1                6        2         61              1        0   \n",
       "2            1                6        2         61              1        0   \n",
       "\n",
       "   AtHome  QBisRookie  Down  yardsToGoBucket  ...  SecondsInQuarterBucketID  \\\n",
       "0       1           0     2                1  ...                         2   \n",
       "1       0           0     1                1  ...                         2   \n",
       "2       0           0     2                1  ...                         2   \n",
       "\n",
       "   MinutesLeftInQuarter  SecondsInHalfBucketID  SecondsInGameBucketID  \\\n",
       "0                     8                      5                      5   \n",
       "1                     7                      5                      5   \n",
       "2                     7                      5                      5   \n",
       "\n",
       "   GameQuarter  OffensePointsBucketID  DefensePointsBucketID  \\\n",
       "0            3                      6                      7   \n",
       "1            3                      7                      6   \n",
       "2            3                      7                      6   \n",
       "\n",
       "   PointsDifferenceBucketID  OffenseWinLossRatio  DefenseWinLossRatio  \n",
       "0                         4                    0                    0  \n",
       "1                         7                    0                    0  \n",
       "2                         7                    0                    0  \n",
       "\n",
       "[3 rows x 21 columns]"
      ]
     },
     "execution_count": 3,
     "metadata": {},
     "output_type": "execute_result"
    }
   ],
   "source": [
    "# drop the prediction column\n",
    "play_df = df.drop(['PlayTypeID'], axis=1)\n",
    "play_df.head(3)"
   ]
  },
  {
   "cell_type": "code",
   "execution_count": 4,
   "metadata": {},
   "outputs": [
    {
     "data": {
      "text/html": [
       "<div>\n",
       "<style scoped>\n",
       "    .dataframe tbody tr th:only-of-type {\n",
       "        vertical-align: middle;\n",
       "    }\n",
       "\n",
       "    .dataframe tbody tr th {\n",
       "        vertical-align: top;\n",
       "    }\n",
       "\n",
       "    .dataframe thead th {\n",
       "        text-align: right;\n",
       "    }\n",
       "</style>\n",
       "<table border=\"1\" class=\"dataframe\">\n",
       "  <thead>\n",
       "    <tr style=\"text-align: right;\">\n",
       "      <th></th>\n",
       "      <th>PlayTypeID</th>\n",
       "    </tr>\n",
       "  </thead>\n",
       "  <tbody>\n",
       "    <tr>\n",
       "      <th>0</th>\n",
       "      <td>0</td>\n",
       "    </tr>\n",
       "    <tr>\n",
       "      <th>1</th>\n",
       "      <td>0</td>\n",
       "    </tr>\n",
       "    <tr>\n",
       "      <th>2</th>\n",
       "      <td>0</td>\n",
       "    </tr>\n",
       "  </tbody>\n",
       "</table>\n",
       "</div>"
      ],
      "text/plain": [
       "   PlayTypeID\n",
       "0           0\n",
       "1           0\n",
       "2           0"
      ]
     },
     "execution_count": 4,
     "metadata": {},
     "output_type": "execute_result"
    }
   ],
   "source": [
    "# Split out the prediction column into separate dataframe\n",
    "predict_df = df.filter(['PlayTypeID'], axis=1)\n",
    "predict_df.head(3)"
   ]
  },
  {
   "cell_type": "code",
   "execution_count": 5,
   "metadata": {},
   "outputs": [],
   "source": [
    "# Split the dataset into test and train\n",
    "play_train, play_test, predict_train, predict_test = train_test_split(play_df, predict_df, test_size=0.3, random_state=73)"
   ]
  },
  {
   "cell_type": "code",
   "execution_count": 6,
   "metadata": {},
   "outputs": [],
   "source": [
    "# Define network dimensions\n",
    "n_input_dim = play_train.shape[1]\n",
    "# Layer size\n",
    "n_hidden = 4\n",
    "n_output = 1"
   ]
  },
  {
   "cell_type": "code",
   "execution_count": 7,
   "metadata": {},
   "outputs": [
    {
     "name": "stdout",
     "output_type": "stream",
     "text": [
      "cuda:0\n"
     ]
    }
   ],
   "source": [
    "device = torch.device('cuda:0' if torch.cuda.is_available() else 'cpu')\n",
    "print(device)"
   ]
  },
  {
   "cell_type": "markdown",
   "metadata": {},
   "source": [
    "### Test a simple Neural Network"
   ]
  },
  {
   "cell_type": "code",
   "execution_count": 8,
   "metadata": {},
   "outputs": [
    {
     "name": "stdout",
     "output_type": "stream",
     "text": [
      "Sequential(\n",
      "  (0): Linear(in_features=21, out_features=4, bias=True)\n",
      "  (1): ELU(alpha=1.0)\n",
      "  (2): Linear(in_features=4, out_features=1, bias=True)\n",
      "  (3): Sigmoid()\n",
      ")\n"
     ]
    }
   ],
   "source": [
    "# Build the NN\n",
    "net = nn.Sequential(\n",
    "    nn.Linear(n_input_dim, n_hidden),\n",
    "    nn.ELU(),\n",
    "    nn.Linear(n_hidden, n_output),\n",
    "    nn.Sigmoid()\n",
    ").to(device)\n",
    "\n",
    "print(net)"
   ]
  },
  {
   "cell_type": "code",
   "execution_count": null,
   "metadata": {},
   "outputs": [],
   "source": [
    "loss_func = nn.BCELoss()\n",
    "learning_rate = 0.01\n",
    "optimizer = torch.optim.Adam(net.parameters(), lr=learning_rate)"
   ]
  },
  {
   "cell_type": "code",
   "execution_count": null,
   "metadata": {},
   "outputs": [],
   "source": [
    "train_loss = []\n",
    "train_accuracy = []\n",
    "iters = 1000\n",
    "predict_train_t = torch.FloatTensor(predict_train.values).to(device).reshape(-1, 1)\n",
    "for i in range(iters):\n",
    "    play_train_t = torch.FloatTensor(play_train.values).to(device)\n",
    "    predict_hat = net(play_train_t).to(device)\n",
    "    loss = loss_func(predict_hat, predict_train_t)\n",
    "    loss.backward()\n",
    "    optimizer.step()\n",
    "    optimizer.zero_grad()\n",
    "    predict_hat_class = np.where(predict_hat.cpu().detach().numpy()<0.5, 0, 1)\n",
    "    accuracy = np.sum(predict_train.values.reshape(-1,1)==predict_hat_class) / len(predict_train)\n",
    "    train_accuracy.append(accuracy)\n",
    "    train_loss.append(loss.item())\n",
    "    \n",
    "fig, ax = plt.subplots(2, 1, figsize=(12,8))\n",
    "ax[0].plot(train_loss)\n",
    "ax[0].set_ylabel('Loss')\n",
    "ax[0].set_title('Training Loss')\n",
    "\n",
    "ax[1].plot(train_accuracy)\n",
    "ax[1].set_ylabel('Classification Accuracy')\n",
    "ax[1].set_title('Training Accuracy')\n",
    "\n",
    "plt.tight_layout()\n",
    "plt.show()"
   ]
  },
  {
   "cell_type": "markdown",
   "metadata": {},
   "source": [
    "## Class to help build the final Neural Network"
   ]
  },
  {
   "cell_type": "code",
   "execution_count": 9,
   "metadata": {},
   "outputs": [],
   "source": [
    "class network():\n",
    "    \n",
    "    def __init__(self, X, Y, n_hidden=4, learning_rate=1e-2, device='cpu'):\n",
    "        self.device = device\n",
    "        self.X = X\n",
    "        self.Y = Y.reshape(-1,1)\n",
    "        self.Y_t = torch.FloatTensor(self.Y).to(device=self.device)\n",
    "        self.n_input_dim = X.shape[1]\n",
    "        self.n_output = 1\n",
    "        self.learning_rate = learning_rate\n",
    "        self.n_hidden = n_hidden\n",
    "        \n",
    "        hiddenLayer1Size=self.n_hidden\n",
    "        hiddenLayer2Size=int(hiddenLayer1Size/4)\n",
    "        hiddenLayer3Size=int(hiddenLayer1Size/8)\n",
    "        hiddenLayer4Size=int(hiddenLayer1Size/16)\n",
    "        hiddenLayer5Size=int(hiddenLayer1Size/32)\n",
    "        \n",
    "        DROPOUT_PROB = 0.90\n",
    "    \n",
    "        self.net = nn.Sequential(\n",
    "            nn.Linear(self.n_input_dim, hiddenLayer1Size),\n",
    "            nn.BatchNorm1d(hiddenLayer1Size),\n",
    "            nn.LeakyReLU(),\n",
    "            nn.Linear(hiddenLayer1Size, hiddenLayer3Size),\n",
    "            nn.Dropout(p=1 - (DROPOUT_PROB)),\n",
    "            nn.LeakyReLU(),\n",
    "            nn.Linear(hiddenLayer3Size, hiddenLayer5Size),\n",
    "            nn.Dropout(p=1 - (DROPOUT_PROB)),\n",
    "            nn.ReLU(),\n",
    "            nn.Linear(hiddenLayer5Size, self.n_output),\n",
    "#             nn.Linear(hiddenLayer2Size, self.n_output),\n",
    "            nn.Sigmoid()\n",
    "        ).to(device=self.device)\n",
    "        \n",
    "        self.loss_func = nn.BCELoss()\n",
    "        self.optimizer = torch.optim.Adam(self.net.parameters(), \n",
    "                                          lr=self.learning_rate)\n",
    "        \n",
    "    def predict(self, X):\n",
    "        # Function to generate predictions based on data\n",
    "        X_t = torch.FloatTensor(X).to(device=self.device)\n",
    "        return self.net(X_t)\n",
    "    \n",
    "    def calculate_loss(self, y_hat):\n",
    "        return self.loss_func(y_hat, self.Y_t)\n",
    "    \n",
    "    def update_network(self, y_hat):\n",
    "        self.optimizer.zero_grad()\n",
    "        loss = self.calculate_loss(y_hat)\n",
    "        loss.backward()\n",
    "        self.optimizer.step()\n",
    "        self.optimizer.zero_grad()\n",
    "        self.training_loss.append(loss.item())\n",
    "        \n",
    "    def calculate_accuracy(self, y_hat_class, Y):\n",
    "        return np.sum(Y.reshape(-1,1)==y_hat_class) / len(Y)\n",
    "        \n",
    "    def train(self, n_iters=1000, n_batch_size=10000):\n",
    "        self.training_loss = []\n",
    "        self.training_accuracy = []\n",
    "        \n",
    "        for i in range(n_iters):\n",
    "            y_hat = self.predict(self.X)\n",
    "            self.update_network(y_hat)\n",
    "            y_hat_class = np.where(y_hat.cpu()<0.5, 0, 1)\n",
    "            accuracy = self.calculate_accuracy(y_hat_class, self.Y)\n",
    "            self.training_accuracy.append(accuracy)\n",
    "            \n",
    "    def plot_training_results(self):\n",
    "        fig, ax = plt.subplots(2, 1, figsize=(12,8))\n",
    "        ax[0].plot(self.training_loss)\n",
    "        ax[0].set_ylabel('Loss')\n",
    "        ax[0].set_title('Training Loss')\n",
    "\n",
    "        ax[1].plot(self.training_accuracy)\n",
    "        ax[1].set_ylabel('Classification Accuracy')\n",
    "        ax[1].set_title('Training Accuracy')\n",
    "        ax[1].grid(True)\n",
    "\n",
    "        plt.tight_layout()\n",
    "        plt.show()\n",
    "    \n",
    "    def output_accuracy(self, X_test, Y_test):\n",
    "        # Pass test data\n",
    "        y_hat_test = self.predict(X_test)\n",
    "        y_hat_test_class = np.where(y_hat_test.cpu()<0.5, 0, 1)\n",
    "        print(\"Test Accuracy {:.2f}%\".format(\n",
    "            self.calculate_accuracy(y_hat_test_class, Y_test) * 100))\n",
    "        \n",
    "    def plot_testing_results(self, X_test, Y_test):\n",
    "        # Pass test data\n",
    "        y_hat_test = self.predict(X_test)\n",
    "        y_hat_test_class = np.where(y_hat_test.cpu()<0.5, 0, 1)\n",
    "        print(\"Test Accuracy {:.2f}%\".format(\n",
    "            self.calculate_accuracy(y_hat_test_class, Y_test) * 100))\n",
    "\n",
    "        # Plot the decision boundary\n",
    "        # Determine grid range in x and y directions\n",
    "        x_min, x_max = self.X[:, 0].min()-0.1, self.X[:, 0].max()+0.1\n",
    "        y_min, y_max = self.X[:, 1].min()-0.1, self.X[:, 1].max()+0.1\n",
    "\n",
    "        # Set grid spacing parameter\n",
    "        spacing = min(x_max - x_min, y_max - y_min) / 100\n",
    "\n",
    "        # Create grid\n",
    "        XX, YY = np.meshgrid(np.arange(x_min, x_max, spacing),\n",
    "                       np.arange(y_min, y_max, spacing))\n",
    "\n",
    "        # Concatenate data to match input\n",
    "        data = np.hstack((XX.ravel().reshape(-1,1), \n",
    "                          YY.ravel().reshape(-1,1)))\n",
    "\n",
    "        # Pass data to predict method\n",
    "        db_prob = self.predict(data)\n",
    "\n",
    "        clf = np.where(db_prob.cpu()<0.5,0,1)\n",
    "\n",
    "        Z = clf.reshape(XX.shape)\n",
    "\n",
    "        plt.figure(figsize=(12,8))\n",
    "        plt.contourf(XX, YY, Z, cmap=plt.cm.Accent, alpha=0.5)\n",
    "        plt.scatter(X_test[:,0], X_test[:,1], c=Y_test, \n",
    "                    cmap=plt.cm.Accent)\n",
    "        plt.show()"
   ]
  },
  {
   "cell_type": "code",
   "execution_count": 10,
   "metadata": {},
   "outputs": [
    {
     "name": "stdout",
     "output_type": "stream",
     "text": [
      "Sequential(\n",
      "  (0): Linear(in_features=21, out_features=250, bias=True)\n",
      "  (1): BatchNorm1d(250, eps=1e-05, momentum=0.1, affine=True, track_running_stats=True)\n",
      "  (2): LeakyReLU(negative_slope=0.01)\n",
      "  (3): Linear(in_features=250, out_features=31, bias=True)\n",
      "  (4): Dropout(p=0.09999999999999998, inplace=False)\n",
      "  (5): LeakyReLU(negative_slope=0.01)\n",
      "  (6): Linear(in_features=31, out_features=7, bias=True)\n",
      "  (7): Dropout(p=0.09999999999999998, inplace=False)\n",
      "  (8): ReLU()\n",
      "  (9): Linear(in_features=7, out_features=1, bias=True)\n",
      "  (10): Sigmoid()\n",
      ")\n"
     ]
    }
   ],
   "source": [
    "net = network(play_train.to_numpy(), predict_train.to_numpy(), n_hidden=250, device=device)\n",
    "print(net.net)"
   ]
  },
  {
   "cell_type": "code",
   "execution_count": 11,
   "metadata": {},
   "outputs": [
    {
     "data": {
      "text/plain": [
       "21"
      ]
     },
     "execution_count": 11,
     "metadata": {},
     "output_type": "execute_result"
    }
   ],
   "source": [
    "play_train.to_numpy().shape[1]"
   ]
  },
  {
   "cell_type": "code",
   "execution_count": 12,
   "metadata": {},
   "outputs": [
    {
     "data": {
      "text/plain": [
       "21"
      ]
     },
     "execution_count": 12,
     "metadata": {},
     "output_type": "execute_result"
    }
   ],
   "source": [
    "play_train.to_numpy()[range(0,1)].size"
   ]
  },
  {
   "cell_type": "code",
   "execution_count": 13,
   "metadata": {},
   "outputs": [
    {
     "data": {
      "text/plain": [
       "1"
      ]
     },
     "execution_count": 13,
     "metadata": {},
     "output_type": "execute_result"
    }
   ],
   "source": [
    "predict_train.to_numpy().shape[1]"
   ]
  },
  {
   "cell_type": "code",
   "execution_count": 14,
   "metadata": {},
   "outputs": [],
   "source": [
    "net.train(n_iters=2000)"
   ]
  },
  {
   "cell_type": "code",
   "execution_count": 15,
   "metadata": {},
   "outputs": [
    {
     "data": {
      "image/png": "[encoded data removed]",
      "text/plain": [
       "<Figure size 864x576 with 2 Axes>"
      ]
     },
     "metadata": {
      "needs_background": "light"
     },
     "output_type": "display_data"
    },
    {
     "name": "stdout",
     "output_type": "stream",
     "text": [
      "Test Accuracy 69.85%\n"
     ]
    }
   ],
   "source": [
    "net.plot_training_results()\n",
    "net.output_accuracy(play_test.values, predict_test.values)"
   ]
  },
  {
   "cell_type": "code",
   "execution_count": 17,
   "metadata": {},
   "outputs": [],
   "source": [
    "play_predict = net.predict(play_test.values)"
   ]
  },
  {
   "cell_type": "code",
   "execution_count": 18,
   "metadata": {},
   "outputs": [
    {
     "name": "stdout",
     "output_type": "stream",
     "text": [
      "[[80076 28940]\n",
      " [29000 53959]]\n"
     ]
    },
    {
     "data": {
      "text/plain": [
       "<matplotlib.axes._subplots.AxesSubplot at 0x1a9353f4488>"
      ]
     },
     "execution_count": 18,
     "metadata": {},
     "output_type": "execute_result"
    },
    {
     "data": {
      "image/png": "[encoded data removed]",
      "text/plain": [
       "<Figure size 720x504 with 2 Axes>"
      ]
     },
     "metadata": {
      "needs_background": "light"
     },
     "output_type": "display_data"
    }
   ],
   "source": [
    "from sklearn.metrics import confusion_matrix\n",
    "play_predict_hat = np.where(play_predict.cpu()<0.5, 0, 1)\n",
    "confusion_matrix = confusion_matrix(predict_test.values, play_predict_hat)\n",
    "print(confusion_matrix)\n",
    "\n",
    "import seaborn as sns\n",
    "plt.figure(figsize = (10,7))\n",
    "sns.heatmap(confusion_matrix, annot=False)"
   ]
  },
  {
   "cell_type": "code",
   "execution_count": 19,
   "metadata": {},
   "outputs": [
    {
     "name": "stdout",
     "output_type": "stream",
     "text": [
      "              precision    recall  f1-score   support\n",
      "\n",
      "           0       0.73      0.73      0.73    109016\n",
      "           1       0.65      0.65      0.65     82959\n",
      "\n",
      "    accuracy                           0.70    191975\n",
      "   macro avg       0.69      0.69      0.69    191975\n",
      "weighted avg       0.70      0.70      0.70    191975\n",
      "\n"
     ]
    }
   ],
   "source": [
    "from sklearn.metrics import classification_report\n",
    "print(classification_report(predict_test, play_predict_hat))"
   ]
  },
  {
   "cell_type": "code",
   "execution_count": 20,
   "metadata": {},
   "outputs": [
    {
     "data": {
      "image/png": "[encoded data removed]",
      "text/plain": [
       "<Figure size 432x288 with 1 Axes>"
      ]
     },
     "metadata": {
      "needs_background": "light"
     },
     "output_type": "display_data"
    }
   ],
   "source": [
    "from sklearn.metrics import roc_auc_score\n",
    "from sklearn.metrics import roc_curve\n",
    "nn_probs = play_predict.cpu().detach()[:,0]\n",
    "nn_roc_auc = roc_auc_score(predict_test, play_predict_hat)\n",
    "fpr, tpr, thresholds = roc_curve(predict_test, nn_probs, pos_label=1)\n",
    "plt.figure()\n",
    "plt.plot(fpr, tpr, label='ANN (area = %0.2f)' % nn_roc_auc)\n",
    "plt.plot([0, 1], [0, 1],'r--')\n",
    "plt.xlim([0.0, 1.0])\n",
    "plt.ylim([0.0, 1.05])\n",
    "plt.xlabel('False Positive Rate')\n",
    "plt.ylabel('True Positive Rate')\n",
    "plt.title('Receiver operating characteristic')\n",
    "plt.legend(loc=\"lower right\")\n",
    "plt.savefig('Log_ROC')\n",
    "plt.show()"
   ]
  },
  {
   "cell_type": "code",
   "execution_count": null,
   "metadata": {},
   "outputs": [],
   "source": [
    "import shap"
   ]
  },
  {
   "cell_type": "code",
   "execution_count": null,
   "metadata": {},
   "outputs": [],
   "source": [
    "e = shap.DeepExplainer(net.net, play_test)\n",
    "shap_values = e.shap_values(play_test)"
   ]
  },
  {
   "cell_type": "code",
   "execution_count": 22,
   "metadata": {},
   "outputs": [],
   "source": [
    "out = np.concatenate((predict_test, play_predict_hat),axis=1)"
   ]
  },
  {
   "cell_type": "code",
   "execution_count": 23,
   "metadata": {},
   "outputs": [],
   "source": [
    "test_df = pd.DataFrame(out)\n",
    "test_df[0] = test_df[0] + 1\n",
    "test_df[1] = test_df[1] + 1"
   ]
  },
  {
   "cell_type": "code",
   "execution_count": 24,
   "metadata": {},
   "outputs": [],
   "source": [
    "test_df['correct'] = np.where(test_df[0] == test_df[1], 'yes', 'no')"
   ]
  },
  {
   "cell_type": "code",
   "execution_count": 25,
   "metadata": {},
   "outputs": [
    {
     "data": {
      "text/html": [
       "<div>\n",
       "<style scoped>\n",
       "    .dataframe tbody tr th:only-of-type {\n",
       "        vertical-align: middle;\n",
       "    }\n",
       "\n",
       "    .dataframe tbody tr th {\n",
       "        vertical-align: top;\n",
       "    }\n",
       "\n",
       "    .dataframe thead th {\n",
       "        text-align: right;\n",
       "    }\n",
       "</style>\n",
       "<table border=\"1\" class=\"dataframe\">\n",
       "  <thead>\n",
       "    <tr style=\"text-align: right;\">\n",
       "      <th></th>\n",
       "      <th></th>\n",
       "      <th>1</th>\n",
       "    </tr>\n",
       "    <tr>\n",
       "      <th>0</th>\n",
       "      <th>correct</th>\n",
       "      <th></th>\n",
       "    </tr>\n",
       "  </thead>\n",
       "  <tbody>\n",
       "    <tr>\n",
       "      <th rowspan=\"2\" valign=\"top\">1</th>\n",
       "      <th>no</th>\n",
       "      <td>28940</td>\n",
       "    </tr>\n",
       "    <tr>\n",
       "      <th>yes</th>\n",
       "      <td>80076</td>\n",
       "    </tr>\n",
       "    <tr>\n",
       "      <th rowspan=\"2\" valign=\"top\">2</th>\n",
       "      <th>no</th>\n",
       "      <td>29000</td>\n",
       "    </tr>\n",
       "    <tr>\n",
       "      <th>yes</th>\n",
       "      <td>53959</td>\n",
       "    </tr>\n",
       "  </tbody>\n",
       "</table>\n",
       "</div>"
      ],
      "text/plain": [
       "               1\n",
       "0 correct       \n",
       "1 no       28940\n",
       "  yes      80076\n",
       "2 no       29000\n",
       "  yes      53959"
      ]
     },
     "execution_count": 25,
     "metadata": {},
     "output_type": "execute_result"
    }
   ],
   "source": [
    "agg_df = test_df.groupby([0,'correct']).count()\n",
    "agg_df"
   ]
  },
  {
   "cell_type": "code",
   "execution_count": 26,
   "metadata": {},
   "outputs": [
    {
     "data": {
      "image/png": "[encoded data removed]",
      "text/plain": [
       "<Figure size 1080x720 with 1 Axes>"
      ]
     },
     "metadata": {
      "needs_background": "light"
     },
     "output_type": "display_data"
    }
   ],
   "source": [
    "ax = agg_df.plot(kind='bar', title =\"Accuracy\", figsize=(15, 10), legend=False, fontsize=12)\n",
    "ax.set_xlabel(\"(PassType, Correct Prediction)\", fontsize=12)\n",
    "ax.set_ylabel(\"Number of correct predictions\", fontsize=12)\n",
    "plt.grid(True)\n",
    "plt.show()"
   ]
  },
  {
   "cell_type": "code",
   "execution_count": null,
   "metadata": {},
   "outputs": [],
   "source": []
  }
 ],
 "metadata": {
  "kernelspec": {
   "display_name": "Python [conda env:dissertation]",
   "language": "python",
   "name": "conda-env-dissertation-py"
  },
  "language_info": {
   "codemirror_mode": {
    "name": "ipython",
    "version": 3
   },
   "file_extension": ".py",
   "mimetype": "text/x-python",
   "name": "python",
   "nbconvert_exporter": "python",
   "pygments_lexer": "ipython3",
   "version": "3.7.5"
  }
 },
 "nbformat": 4,
 "nbformat_minor": 2
}

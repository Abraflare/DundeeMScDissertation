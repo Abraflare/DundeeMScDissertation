{
 "cells": [
  {
   "cell_type": "code",
   "execution_count": 1,
   "metadata": {},
   "outputs": [],
   "source": [
    "from sklearn import tree\n",
    "\n",
    "from sklearn.metrics import roc_curve, auc\n",
    "from sklearn.model_selection import train_test_split\n",
    "from sklearn.preprocessing import label_binarize"
   ]
  },
  {
   "cell_type": "code",
   "execution_count": 2,
   "metadata": {},
   "outputs": [],
   "source": [
    "from sklearn.metrics import accuracy_score\n",
    "from sklearn.metrics import f1_score\n",
    "from sklearn.ensemble import RandomForestClassifier\n",
    "import matplotlib\n",
    "import matplotlib.pyplot as plt\n",
    "import numpy\n",
    "import pandas as pd"
   ]
  },
  {
   "cell_type": "code",
   "execution_count": 3,
   "metadata": {},
   "outputs": [],
   "source": [
    "n_classes = 2 # We are predicting two different classes PASS and RUSH\n",
    "clf = tree.DecisionTreeClassifier()"
   ]
  },
  {
   "cell_type": "code",
   "execution_count": 4,
   "metadata": {},
   "outputs": [
    {
     "data": {
      "text/html": [
       "<div>\n",
       "<style scoped>\n",
       "    .dataframe tbody tr th:only-of-type {\n",
       "        vertical-align: middle;\n",
       "    }\n",
       "\n",
       "    .dataframe tbody tr th {\n",
       "        vertical-align: top;\n",
       "    }\n",
       "\n",
       "    .dataframe thead th {\n",
       "        text-align: right;\n",
       "    }\n",
       "</style>\n",
       "<table border=\"1\" class=\"dataframe\">\n",
       "  <thead>\n",
       "    <tr style=\"text-align: right;\">\n",
       "      <th></th>\n",
       "      <th>FieldZoneID</th>\n",
       "      <th>PlayTypeID</th>\n",
       "      <th>ConditionTypeID</th>\n",
       "      <th>SpeedID</th>\n",
       "      <th>StadiumID</th>\n",
       "      <th>SurfaceTypeID</th>\n",
       "      <th>Shotgun</th>\n",
       "      <th>AtHome</th>\n",
       "      <th>QBisRookie</th>\n",
       "      <th>Down</th>\n",
       "      <th>...</th>\n",
       "      <th>SecondsInQuarterBucketID</th>\n",
       "      <th>MinutesLeftInQuarter</th>\n",
       "      <th>SecondsInHalfBucketID</th>\n",
       "      <th>SecondsInGameBucketID</th>\n",
       "      <th>GameQuarter</th>\n",
       "      <th>OffensePointsBucketID</th>\n",
       "      <th>DefensePointsBucketID</th>\n",
       "      <th>PointsDifferenceBucketID</th>\n",
       "      <th>OffenseWinLossRatio</th>\n",
       "      <th>DefenseWinLossRatio</th>\n",
       "    </tr>\n",
       "  </thead>\n",
       "  <tbody>\n",
       "    <tr>\n",
       "      <th>0</th>\n",
       "      <td>3</td>\n",
       "      <td>1</td>\n",
       "      <td>6</td>\n",
       "      <td>2</td>\n",
       "      <td>61</td>\n",
       "      <td>1</td>\n",
       "      <td>False</td>\n",
       "      <td>True</td>\n",
       "      <td>False</td>\n",
       "      <td>2</td>\n",
       "      <td>...</td>\n",
       "      <td>2</td>\n",
       "      <td>8</td>\n",
       "      <td>5</td>\n",
       "      <td>5</td>\n",
       "      <td>3</td>\n",
       "      <td>6</td>\n",
       "      <td>7</td>\n",
       "      <td>4</td>\n",
       "      <td>0</td>\n",
       "      <td>0</td>\n",
       "    </tr>\n",
       "    <tr>\n",
       "      <th>1</th>\n",
       "      <td>1</td>\n",
       "      <td>1</td>\n",
       "      <td>6</td>\n",
       "      <td>2</td>\n",
       "      <td>61</td>\n",
       "      <td>1</td>\n",
       "      <td>False</td>\n",
       "      <td>False</td>\n",
       "      <td>False</td>\n",
       "      <td>1</td>\n",
       "      <td>...</td>\n",
       "      <td>2</td>\n",
       "      <td>7</td>\n",
       "      <td>5</td>\n",
       "      <td>5</td>\n",
       "      <td>3</td>\n",
       "      <td>7</td>\n",
       "      <td>6</td>\n",
       "      <td>7</td>\n",
       "      <td>0</td>\n",
       "      <td>0</td>\n",
       "    </tr>\n",
       "    <tr>\n",
       "      <th>2</th>\n",
       "      <td>1</td>\n",
       "      <td>1</td>\n",
       "      <td>6</td>\n",
       "      <td>2</td>\n",
       "      <td>61</td>\n",
       "      <td>1</td>\n",
       "      <td>False</td>\n",
       "      <td>False</td>\n",
       "      <td>False</td>\n",
       "      <td>2</td>\n",
       "      <td>...</td>\n",
       "      <td>2</td>\n",
       "      <td>7</td>\n",
       "      <td>5</td>\n",
       "      <td>5</td>\n",
       "      <td>3</td>\n",
       "      <td>7</td>\n",
       "      <td>6</td>\n",
       "      <td>7</td>\n",
       "      <td>0</td>\n",
       "      <td>0</td>\n",
       "    </tr>\n",
       "  </tbody>\n",
       "</table>\n",
       "<p>3 rows × 22 columns</p>\n",
       "</div>"
      ],
      "text/plain": [
       "   FieldZoneID  PlayTypeID  ConditionTypeID  SpeedID  StadiumID  \\\n",
       "0            3           1                6        2         61   \n",
       "1            1           1                6        2         61   \n",
       "2            1           1                6        2         61   \n",
       "\n",
       "   SurfaceTypeID  Shotgun  AtHome  QBisRookie  Down  ...  \\\n",
       "0              1    False    True       False     2  ...   \n",
       "1              1    False   False       False     1  ...   \n",
       "2              1    False   False       False     2  ...   \n",
       "\n",
       "   SecondsInQuarterBucketID  MinutesLeftInQuarter  SecondsInHalfBucketID  \\\n",
       "0                         2                     8                      5   \n",
       "1                         2                     7                      5   \n",
       "2                         2                     7                      5   \n",
       "\n",
       "   SecondsInGameBucketID  GameQuarter  OffensePointsBucketID  \\\n",
       "0                      5            3                      6   \n",
       "1                      5            3                      7   \n",
       "2                      5            3                      7   \n",
       "\n",
       "   DefensePointsBucketID  PointsDifferenceBucketID  OffenseWinLossRatio  \\\n",
       "0                      7                         4                    0   \n",
       "1                      6                         7                    0   \n",
       "2                      6                         7                    0   \n",
       "\n",
       "   DefenseWinLossRatio  \n",
       "0                    0  \n",
       "1                    0  \n",
       "2                    0  \n",
       "\n",
       "[3 rows x 22 columns]"
      ]
     },
     "execution_count": 4,
     "metadata": {},
     "output_type": "execute_result"
    }
   ],
   "source": [
    "import pyodbc\n",
    "sql_conn = pyodbc.connect('DRIVER={ODBC Driver 13 for SQL Server};SERVER=localhost\\\\uni;DATABASE=NFL_Prediction;Trusted_Connection=yes')\n",
    "query = \"\"\"\n",
    "SELECT \n",
    "      [FieldZoneID]\n",
    "      ,[PlayTypeID]\n",
    "      ,[ConditionTypeID]\n",
    "      ,[SpeedID]\n",
    "      ,[StadiumID]\n",
    "      ,surf.[SurfaceTypeID]\n",
    "      ,[Shotgun]\n",
    "      ,[AtHome]\n",
    "      ,[QBisRookie]\n",
    "      ,[Down]\n",
    "      ,CASE\n",
    "            WHEN yardsToGo < 11 THEN 1\n",
    "            WHEN yardsToGo < 15 THEN 2\n",
    "            WHEN yardsToGo < 20 THEN 3\n",
    "            WHEN yardsToGo < 30 THEN 4\n",
    "            ELSE 5\n",
    "       END as yardsToGoBucket\n",
    "      ,[TimeoutsLeft]\n",
    "      ,qsb.SecondsBucketID as SecondsInQuarterBucketID\n",
    "      ,[SecondsLeftInQuarter]/60 as [MinutesLeftInQuarter]\n",
    "      ,hsb.SecondsBucketID as SecondsInHalfBucketID\n",
    "      ,gsb.SecondsBucketID as SecondsInGameBucketID\n",
    "      ,[GameQuarter]\n",
    "      ,opb.PointsBucketID as OffensePointsBucketID\n",
    "      ,dpb.PointsBucketID as DefensePointsBucketID\n",
    "      ,pdb.PointsBucketID as PointsDifferenceBucketID\n",
    "      ,p.OffenseWinLossRatio\n",
    "      ,p.DefenseWinLossRatio\n",
    "  FROM [NFL_Prediction].[nfl].[f_play] p\n",
    "  INNER JOIN [NFL_Prediction].[nfl].[d_team] o on p.OffenseID = o.TeamID\n",
    "  INNER JOIN [NFL_Prediction].[nfl].[d_team] d on p.DefenceID = d.TeamID\n",
    "  INNER JOIN [NFL_Prediction].[nfl].[d_weather] w on p.WeatherID = w.WeatherID\n",
    "  INNER JOIN [NFL_Prediction].[nfl].[d_surface] surf on p.SurfaceID = surf.SurfaceID\n",
    "  INNER JOIN [NFL_Prediction].[nfl].[d_seconds_buckets] qsb on p.SecondsLeftInQuarterBucketID = qsb.SecondsBucketID\n",
    "  INNER JOIN [NFL_Prediction].[nfl].[d_seconds_buckets] hsb on p.SecondsLeftInHalfBucketID = hsb.SecondsBucketID\n",
    "  INNER JOIN [NFL_Prediction].[nfl].[d_seconds_buckets] gsb on p.SecondsLeftInHalfBucketID = gsb.SecondsBucketID\n",
    "  INNER JOIN [NFL_Prediction].[nfl].[d_points_buckets] opb on p.OffensePointsBucketID = opb.PointsBucketID\n",
    "  INNER JOIN [NFL_Prediction].[nfl].[d_points_buckets] dpb on p.DefensePointsBucketID = dpb.PointsBucketID\n",
    "  INNER JOIN [NFL_Prediction].[nfl].[d_points_buckets] pdb on p.PointsDifferenceBucketID = pdb.PointsBucketID\n",
    "  where MainPlayerID is not null\n",
    "\"\"\"\n",
    "df = pd.read_sql(query, sql_conn)\n",
    "df.head(3)"
   ]
  },
  {
   "cell_type": "code",
   "execution_count": 5,
   "metadata": {},
   "outputs": [
    {
     "data": {
      "text/html": [
       "<div>\n",
       "<style scoped>\n",
       "    .dataframe tbody tr th:only-of-type {\n",
       "        vertical-align: middle;\n",
       "    }\n",
       "\n",
       "    .dataframe tbody tr th {\n",
       "        vertical-align: top;\n",
       "    }\n",
       "\n",
       "    .dataframe thead th {\n",
       "        text-align: right;\n",
       "    }\n",
       "</style>\n",
       "<table border=\"1\" class=\"dataframe\">\n",
       "  <thead>\n",
       "    <tr style=\"text-align: right;\">\n",
       "      <th></th>\n",
       "      <th>FieldZoneID</th>\n",
       "      <th>ConditionTypeID</th>\n",
       "      <th>SpeedID</th>\n",
       "      <th>StadiumID</th>\n",
       "      <th>SurfaceTypeID</th>\n",
       "      <th>Shotgun</th>\n",
       "      <th>AtHome</th>\n",
       "      <th>QBisRookie</th>\n",
       "      <th>Down</th>\n",
       "      <th>yardsToGoBucket</th>\n",
       "      <th>...</th>\n",
       "      <th>SecondsInQuarterBucketID</th>\n",
       "      <th>MinutesLeftInQuarter</th>\n",
       "      <th>SecondsInHalfBucketID</th>\n",
       "      <th>SecondsInGameBucketID</th>\n",
       "      <th>GameQuarter</th>\n",
       "      <th>OffensePointsBucketID</th>\n",
       "      <th>DefensePointsBucketID</th>\n",
       "      <th>PointsDifferenceBucketID</th>\n",
       "      <th>OffenseWinLossRatio</th>\n",
       "      <th>DefenseWinLossRatio</th>\n",
       "    </tr>\n",
       "  </thead>\n",
       "  <tbody>\n",
       "    <tr>\n",
       "      <th>0</th>\n",
       "      <td>3</td>\n",
       "      <td>6</td>\n",
       "      <td>2</td>\n",
       "      <td>61</td>\n",
       "      <td>1</td>\n",
       "      <td>False</td>\n",
       "      <td>True</td>\n",
       "      <td>False</td>\n",
       "      <td>2</td>\n",
       "      <td>1</td>\n",
       "      <td>...</td>\n",
       "      <td>2</td>\n",
       "      <td>8</td>\n",
       "      <td>5</td>\n",
       "      <td>5</td>\n",
       "      <td>3</td>\n",
       "      <td>6</td>\n",
       "      <td>7</td>\n",
       "      <td>4</td>\n",
       "      <td>0</td>\n",
       "      <td>0</td>\n",
       "    </tr>\n",
       "    <tr>\n",
       "      <th>1</th>\n",
       "      <td>1</td>\n",
       "      <td>6</td>\n",
       "      <td>2</td>\n",
       "      <td>61</td>\n",
       "      <td>1</td>\n",
       "      <td>False</td>\n",
       "      <td>False</td>\n",
       "      <td>False</td>\n",
       "      <td>1</td>\n",
       "      <td>1</td>\n",
       "      <td>...</td>\n",
       "      <td>2</td>\n",
       "      <td>7</td>\n",
       "      <td>5</td>\n",
       "      <td>5</td>\n",
       "      <td>3</td>\n",
       "      <td>7</td>\n",
       "      <td>6</td>\n",
       "      <td>7</td>\n",
       "      <td>0</td>\n",
       "      <td>0</td>\n",
       "    </tr>\n",
       "    <tr>\n",
       "      <th>2</th>\n",
       "      <td>1</td>\n",
       "      <td>6</td>\n",
       "      <td>2</td>\n",
       "      <td>61</td>\n",
       "      <td>1</td>\n",
       "      <td>False</td>\n",
       "      <td>False</td>\n",
       "      <td>False</td>\n",
       "      <td>2</td>\n",
       "      <td>1</td>\n",
       "      <td>...</td>\n",
       "      <td>2</td>\n",
       "      <td>7</td>\n",
       "      <td>5</td>\n",
       "      <td>5</td>\n",
       "      <td>3</td>\n",
       "      <td>7</td>\n",
       "      <td>6</td>\n",
       "      <td>7</td>\n",
       "      <td>0</td>\n",
       "      <td>0</td>\n",
       "    </tr>\n",
       "  </tbody>\n",
       "</table>\n",
       "<p>3 rows × 21 columns</p>\n",
       "</div>"
      ],
      "text/plain": [
       "   FieldZoneID  ConditionTypeID  SpeedID  StadiumID  SurfaceTypeID  Shotgun  \\\n",
       "0            3                6        2         61              1    False   \n",
       "1            1                6        2         61              1    False   \n",
       "2            1                6        2         61              1    False   \n",
       "\n",
       "   AtHome  QBisRookie  Down  yardsToGoBucket  ...  SecondsInQuarterBucketID  \\\n",
       "0    True       False     2                1  ...                         2   \n",
       "1   False       False     1                1  ...                         2   \n",
       "2   False       False     2                1  ...                         2   \n",
       "\n",
       "   MinutesLeftInQuarter  SecondsInHalfBucketID  SecondsInGameBucketID  \\\n",
       "0                     8                      5                      5   \n",
       "1                     7                      5                      5   \n",
       "2                     7                      5                      5   \n",
       "\n",
       "   GameQuarter  OffensePointsBucketID  DefensePointsBucketID  \\\n",
       "0            3                      6                      7   \n",
       "1            3                      7                      6   \n",
       "2            3                      7                      6   \n",
       "\n",
       "   PointsDifferenceBucketID  OffenseWinLossRatio  DefenseWinLossRatio  \n",
       "0                         4                    0                    0  \n",
       "1                         7                    0                    0  \n",
       "2                         7                    0                    0  \n",
       "\n",
       "[3 rows x 21 columns]"
      ]
     },
     "execution_count": 5,
     "metadata": {},
     "output_type": "execute_result"
    }
   ],
   "source": [
    "# drop the prediction column\n",
    "play_df = df.drop(['PlayTypeID'], axis=1)\n",
    "play_df.head(3)"
   ]
  },
  {
   "cell_type": "code",
   "execution_count": 6,
   "metadata": {},
   "outputs": [
    {
     "data": {
      "text/html": [
       "<div>\n",
       "<style scoped>\n",
       "    .dataframe tbody tr th:only-of-type {\n",
       "        vertical-align: middle;\n",
       "    }\n",
       "\n",
       "    .dataframe tbody tr th {\n",
       "        vertical-align: top;\n",
       "    }\n",
       "\n",
       "    .dataframe thead th {\n",
       "        text-align: right;\n",
       "    }\n",
       "</style>\n",
       "<table border=\"1\" class=\"dataframe\">\n",
       "  <thead>\n",
       "    <tr style=\"text-align: right;\">\n",
       "      <th></th>\n",
       "      <th>PlayTypeID</th>\n",
       "    </tr>\n",
       "  </thead>\n",
       "  <tbody>\n",
       "    <tr>\n",
       "      <th>0</th>\n",
       "      <td>1</td>\n",
       "    </tr>\n",
       "    <tr>\n",
       "      <th>1</th>\n",
       "      <td>1</td>\n",
       "    </tr>\n",
       "    <tr>\n",
       "      <th>2</th>\n",
       "      <td>1</td>\n",
       "    </tr>\n",
       "  </tbody>\n",
       "</table>\n",
       "</div>"
      ],
      "text/plain": [
       "   PlayTypeID\n",
       "0           1\n",
       "1           1\n",
       "2           1"
      ]
     },
     "execution_count": 6,
     "metadata": {},
     "output_type": "execute_result"
    }
   ],
   "source": [
    "# Split out the prediction column into separate dataframe\n",
    "predict_df = df.filter(['PlayTypeID'], axis=1)\n",
    "predict_df.head(3)"
   ]
  },
  {
   "cell_type": "code",
   "execution_count": 7,
   "metadata": {},
   "outputs": [
    {
     "name": "stderr",
     "output_type": "stream",
     "text": [
      "C:\\Users\\tj610\\Anaconda3\\envs\\Uni\\lib\\site-packages\\ipykernel_launcher.py:6: DataConversionWarning: A column-vector y was passed when a 1d array was expected. Please change the shape of y to (n_samples,), for example using ravel().\n",
      "  \n"
     ]
    },
    {
     "data": {
      "text/plain": [
       "RandomForestClassifier(bootstrap=True, class_weight=None, criterion='gini',\n",
       "                       max_depth=None, max_features='auto', max_leaf_nodes=None,\n",
       "                       min_impurity_decrease=0.0, min_impurity_split=None,\n",
       "                       min_samples_leaf=1, min_samples_split=2,\n",
       "                       min_weight_fraction_leaf=0.0, n_estimators=1000,\n",
       "                       n_jobs=None, oob_score=False, random_state=None,\n",
       "                       verbose=0, warm_start=False)"
      ]
     },
     "execution_count": 7,
     "metadata": {},
     "output_type": "execute_result"
    }
   ],
   "source": [
    "n_trees = 1000\n",
    "rf = RandomForestClassifier(n_trees)\n",
    "from sklearn.model_selection import train_test_split\n",
    "from sklearn import metrics\n",
    "play_train, play_test, predict_train, predict_test = train_test_split(play_df, predict_df, test_size=0.3, random_state=0)\n",
    "rf.fit(play_train, predict_train)"
   ]
  },
  {
   "cell_type": "code",
   "execution_count": 8,
   "metadata": {},
   "outputs": [
    {
     "name": "stdout",
     "output_type": "stream",
     "text": [
      "Features sorted by their score:\n",
      "[(0.13, 'StadiumID'), (0.12, 'OffenseWinLossRatio'), (0.11, 'DefenseWinLossRatio'), (0.09, 'Shotgun'), (0.09, 'MinutesLeftInQuarter'), (0.06, 'FieldZoneID'), (0.06, 'Down'), (0.04, 'SpeedID'), (0.04, 'PointsDifferenceBucketID'), (0.03, 'TimeoutsLeft'), (0.03, 'QBisRookie'), (0.02, 'yardsToGoBucket'), (0.02, 'SurfaceTypeID'), (0.02, 'OffensePointsBucketID'), (0.02, 'GameQuarter'), (0.02, 'DefensePointsBucketID'), (0.02, 'ConditionTypeID'), (0.02, 'AtHome'), (0.01, 'SecondsInQuarterBucketID'), (0.01, 'SecondsInHalfBucketID'), (0.01, 'SecondsInGameBucketID')]\n"
     ]
    }
   ],
   "source": [
    "print(\"Features sorted by their score:\")\n",
    "print(sorted(zip(map(lambda x: float(\"{0:.2f}\".format(round(x, 4))), rf.feature_importances_), play_train.columns),\n",
    "             reverse=True))"
   ]
  },
  {
   "cell_type": "code",
   "execution_count": 9,
   "metadata": {},
   "outputs": [
    {
     "name": "stderr",
     "output_type": "stream",
     "text": [
      "C:\\Users\\tj610\\Anaconda3\\envs\\Uni\\lib\\site-packages\\matplotlib\\font_manager.py:1241: UserWarning: findfont: Font family ['normal'] not found. Falling back to DejaVu Sans.\n",
      "  (prop.get_family(), self.defaultFamily[fontext]))\n"
     ]
    },
    {
     "data": {
      "image/png": "[encoded data removed]",
      "text/plain": [
       "<Figure size 1800x1440 with 1 Axes>"
      ]
     },
     "metadata": {
      "needs_background": "light"
     },
     "output_type": "display_data"
    }
   ],
   "source": [
    "font = {'family' : 'normal',\n",
    "        'weight' : 'bold',\n",
    "        'size'   : 12}\n",
    "\n",
    "matplotlib.rc('font', **font)\n",
    "plt_x = numpy.linspace(0,len(play_train.columns)-1,len(play_train.columns))\n",
    "plt.figure(figsize=(25,20))\n",
    "\n",
    "plt.bar(plt_x, rf.feature_importances_, width=0.5, color=\"blue\",align='center')\n",
    "plt.gca().set_xticklabels(plt_x, rotation=60 )\n",
    "plt.xticks(plt_x, play_train.columns)\n",
    "plt.ylabel(\"relative information\")\n",
    "plt.xlabel(\"features\")\n",
    "plt.show()"
   ]
  },
  {
   "cell_type": "code",
   "execution_count": 10,
   "metadata": {
    "scrolled": false
   },
   "outputs": [
    {
     "name": "stderr",
     "output_type": "stream",
     "text": [
      "C:\\Users\\tj610\\Anaconda3\\envs\\Uni\\lib\\site-packages\\ipykernel_launcher.py:7: DataConversionWarning: A column-vector y was passed when a 1d array was expected. Please change the shape of y to (n_samples,), for example using ravel().\n",
      "  import sys\n",
      "C:\\Users\\tj610\\Anaconda3\\envs\\Uni\\lib\\site-packages\\sklearn\\metrics\\classification.py:1437: UndefinedMetricWarning: F-score is ill-defined and being set to 0.0 in labels with no predicted samples.\n",
      "  'precision', 'predicted', average, warn_for)\n",
      "C:\\Users\\tj610\\Anaconda3\\envs\\Uni\\lib\\site-packages\\ipykernel_launcher.py:7: DataConversionWarning: A column-vector y was passed when a 1d array was expected. Please change the shape of y to (n_samples,), for example using ravel().\n",
      "  import sys\n",
      "C:\\Users\\tj610\\Anaconda3\\envs\\Uni\\lib\\site-packages\\ipykernel_launcher.py:7: DataConversionWarning: A column-vector y was passed when a 1d array was expected. Please change the shape of y to (n_samples,), for example using ravel().\n",
      "  import sys\n",
      "C:\\Users\\tj610\\Anaconda3\\envs\\Uni\\lib\\site-packages\\ipykernel_launcher.py:7: DataConversionWarning: A column-vector y was passed when a 1d array was expected. Please change the shape of y to (n_samples,), for example using ravel().\n",
      "  import sys\n",
      "C:\\Users\\tj610\\Anaconda3\\envs\\Uni\\lib\\site-packages\\ipykernel_launcher.py:7: DataConversionWarning: A column-vector y was passed when a 1d array was expected. Please change the shape of y to (n_samples,), for example using ravel().\n",
      "  import sys\n",
      "C:\\Users\\tj610\\Anaconda3\\envs\\Uni\\lib\\site-packages\\ipykernel_launcher.py:7: DataConversionWarning: A column-vector y was passed when a 1d array was expected. Please change the shape of y to (n_samples,), for example using ravel().\n",
      "  import sys\n",
      "C:\\Users\\tj610\\Anaconda3\\envs\\Uni\\lib\\site-packages\\ipykernel_launcher.py:7: DataConversionWarning: A column-vector y was passed when a 1d array was expected. Please change the shape of y to (n_samples,), for example using ravel().\n",
      "  import sys\n",
      "C:\\Users\\tj610\\Anaconda3\\envs\\Uni\\lib\\site-packages\\ipykernel_launcher.py:7: DataConversionWarning: A column-vector y was passed when a 1d array was expected. Please change the shape of y to (n_samples,), for example using ravel().\n",
      "  import sys\n",
      "C:\\Users\\tj610\\Anaconda3\\envs\\Uni\\lib\\site-packages\\ipykernel_launcher.py:7: DataConversionWarning: A column-vector y was passed when a 1d array was expected. Please change the shape of y to (n_samples,), for example using ravel().\n",
      "  import sys\n",
      "C:\\Users\\tj610\\Anaconda3\\envs\\Uni\\lib\\site-packages\\ipykernel_launcher.py:7: DataConversionWarning: A column-vector y was passed when a 1d array was expected. Please change the shape of y to (n_samples,), for example using ravel().\n",
      "  import sys\n",
      "C:\\Users\\tj610\\Anaconda3\\envs\\Uni\\lib\\site-packages\\ipykernel_launcher.py:7: DataConversionWarning: A column-vector y was passed when a 1d array was expected. Please change the shape of y to (n_samples,), for example using ravel().\n",
      "  import sys\n",
      "C:\\Users\\tj610\\Anaconda3\\envs\\Uni\\lib\\site-packages\\ipykernel_launcher.py:7: DataConversionWarning: A column-vector y was passed when a 1d array was expected. Please change the shape of y to (n_samples,), for example using ravel().\n",
      "  import sys\n",
      "C:\\Users\\tj610\\Anaconda3\\envs\\Uni\\lib\\site-packages\\ipykernel_launcher.py:7: DataConversionWarning: A column-vector y was passed when a 1d array was expected. Please change the shape of y to (n_samples,), for example using ravel().\n",
      "  import sys\n",
      "C:\\Users\\tj610\\Anaconda3\\envs\\Uni\\lib\\site-packages\\ipykernel_launcher.py:7: DataConversionWarning: A column-vector y was passed when a 1d array was expected. Please change the shape of y to (n_samples,), for example using ravel().\n",
      "  import sys\n",
      "C:\\Users\\tj610\\Anaconda3\\envs\\Uni\\lib\\site-packages\\ipykernel_launcher.py:7: DataConversionWarning: A column-vector y was passed when a 1d array was expected. Please change the shape of y to (n_samples,), for example using ravel().\n",
      "  import sys\n",
      "C:\\Users\\tj610\\Anaconda3\\envs\\Uni\\lib\\site-packages\\ipykernel_launcher.py:7: DataConversionWarning: A column-vector y was passed when a 1d array was expected. Please change the shape of y to (n_samples,), for example using ravel().\n",
      "  import sys\n",
      "C:\\Users\\tj610\\Anaconda3\\envs\\Uni\\lib\\site-packages\\ipykernel_launcher.py:7: DataConversionWarning: A column-vector y was passed when a 1d array was expected. Please change the shape of y to (n_samples,), for example using ravel().\n",
      "  import sys\n",
      "C:\\Users\\tj610\\Anaconda3\\envs\\Uni\\lib\\site-packages\\ipykernel_launcher.py:7: DataConversionWarning: A column-vector y was passed when a 1d array was expected. Please change the shape of y to (n_samples,), for example using ravel().\n",
      "  import sys\n",
      "C:\\Users\\tj610\\Anaconda3\\envs\\Uni\\lib\\site-packages\\ipykernel_launcher.py:7: DataConversionWarning: A column-vector y was passed when a 1d array was expected. Please change the shape of y to (n_samples,), for example using ravel().\n",
      "  import sys\n",
      "C:\\Users\\tj610\\Anaconda3\\envs\\Uni\\lib\\site-packages\\ipykernel_launcher.py:7: DataConversionWarning: A column-vector y was passed when a 1d array was expected. Please change the shape of y to (n_samples,), for example using ravel().\n",
      "  import sys\n",
      "C:\\Users\\tj610\\Anaconda3\\envs\\Uni\\lib\\site-packages\\ipykernel_launcher.py:7: DataConversionWarning: A column-vector y was passed when a 1d array was expected. Please change the shape of y to (n_samples,), for example using ravel().\n",
      "  import sys\n"
     ]
    },
    {
     "data": {
      "image/png": "[encoded data removed]",
      "text/plain": [
       "<Figure size 1800x1440 with 1 Axes>"
      ]
     },
     "metadata": {
      "needs_background": "light"
     },
     "output_type": "display_data"
    }
   ],
   "source": [
    "### F1-score sweep over features\n",
    "F1 = []\n",
    "plt_x = numpy.linspace(0,len(play_train.columns)-1,len(play_train.columns))\n",
    "n_trees = 1 # set n_trees to a limiting small number to find out features' effect on constrained models\n",
    "for i in range(len(play_train.columns)):\n",
    "    rf = RandomForestClassifier(n_trees, max_features = i+1)\n",
    "    rf.fit(play_train.iloc[:,:i+1], predict_train)\n",
    "    Y_pred = rf.predict(play_train.iloc[:,:i+1])\n",
    "    F1.append(numpy.mean(f1_score(predict_train,Y_pred, average  = None)))\n",
    "plt.figure(figsize=(25,20))\n",
    "\n",
    "plt.bar(plt_x, F1, width=0.2, color=\"purple\",align='center')\n",
    "\n",
    "plt.gca().set_xticklabels(plt_x, rotation=60 )\n",
    "plt.xticks(plt_x, [ int(x+1) for x in plt_x ])\n",
    "\n",
    "plt.ylabel(\"mean F1 score for all classes\")\n",
    "plt.xlabel(\"number of features\")\n",
    "\n",
    "plt.show()"
   ]
  },
  {
   "cell_type": "code",
   "execution_count": 11,
   "metadata": {},
   "outputs": [
    {
     "name": "stderr",
     "output_type": "stream",
     "text": [
      "C:\\Users\\tj610\\Anaconda3\\envs\\Uni\\lib\\site-packages\\ipykernel_launcher.py:6: DataConversionWarning: A column-vector y was passed when a 1d array was expected. Please change the shape of y to (n_samples,), for example using ravel().\n",
      "  \n"
     ]
    },
    {
     "data": {
      "text/plain": [
       "RandomForestClassifier(bootstrap=True, class_weight=None, criterion='gini',\n",
       "                       max_depth=None, max_features='auto', max_leaf_nodes=None,\n",
       "                       min_impurity_decrease=0.0, min_impurity_split=None,\n",
       "                       min_samples_leaf=1, min_samples_split=2,\n",
       "                       min_weight_fraction_leaf=0.0, n_estimators=1000,\n",
       "                       n_jobs=None, oob_score=False, random_state=None,\n",
       "                       verbose=0, warm_start=False)"
      ]
     },
     "execution_count": 11,
     "metadata": {},
     "output_type": "execute_result"
    }
   ],
   "source": [
    "n_trees = 1000\n",
    "rf = RandomForestClassifier(n_trees)\n",
    "from sklearn.model_selection import train_test_split\n",
    "from sklearn import metrics\n",
    "play_train, play_test, predict_train, predict_test = train_test_split(play_df, predict_df, test_size=0.3, random_state=0)\n",
    "rf.fit(play_train, predict_train)"
   ]
  },
  {
   "cell_type": "code",
   "execution_count": 12,
   "metadata": {},
   "outputs": [],
   "source": [
    "from sklearn.metrics import confusion_matrix\n",
    "\n",
    "play_predict = rf.predict(play_test)"
   ]
  },
  {
   "cell_type": "code",
   "execution_count": 13,
   "metadata": {},
   "outputs": [
    {
     "name": "stdout",
     "output_type": "stream",
     "text": [
      "[[79513 29778]\n",
      " [29741 52943]]\n"
     ]
    },
    {
     "data": {
      "text/plain": [
       "<matplotlib.axes._subplots.AxesSubplot at 0x270010b1e80>"
      ]
     },
     "execution_count": 13,
     "metadata": {},
     "output_type": "execute_result"
    },
    {
     "data": {
      "image/png": "[encoded data removed]",
      "text/plain": [
       "<Figure size 720x504 with 2 Axes>"
      ]
     },
     "metadata": {
      "needs_background": "light"
     },
     "output_type": "display_data"
    }
   ],
   "source": [
    "confusion_matrix = confusion_matrix(predict_test, play_predict)\n",
    "print(confusion_matrix)\n",
    "\n",
    "import seaborn as sns\n",
    "plt.figure(figsize = (10,7))\n",
    "sns.heatmap(confusion_matrix, annot=False)"
   ]
  },
  {
   "cell_type": "markdown",
   "metadata": {},
   "source": [
    "The result is telling us that we have 79635+52943 correct predictions (132,578) and 29741 + 29778 incorrect predictions (59,519) which gives an accuracy of 69.016%"
   ]
  },
  {
   "cell_type": "code",
   "execution_count": 14,
   "metadata": {
    "scrolled": true
   },
   "outputs": [
    {
     "name": "stdout",
     "output_type": "stream",
     "text": [
      "              precision    recall  f1-score   support\n",
      "\n",
      "           1       0.73      0.73      0.73    109291\n",
      "           2       0.64      0.64      0.64     82684\n",
      "\n",
      "    accuracy                           0.69    191975\n",
      "   macro avg       0.68      0.68      0.68    191975\n",
      "weighted avg       0.69      0.69      0.69    191975\n",
      "\n"
     ]
    }
   ],
   "source": [
    "from sklearn.metrics import classification_report\n",
    "print(classification_report(predict_test, play_predict))"
   ]
  },
  {
   "cell_type": "code",
   "execution_count": 15,
   "metadata": {},
   "outputs": [
    {
     "data": {
      "text/plain": [
       "array([0.41713333, 0.2625    , 0.07733333, ..., 0.69925   , 0.322     ,\n",
       "       0.187     ])"
      ]
     },
     "execution_count": 15,
     "metadata": {},
     "output_type": "execute_result"
    }
   ],
   "source": [
    "rf_probs = rf.predict_proba(play_test)[:,1]\n",
    "rf_probs"
   ]
  },
  {
   "cell_type": "code",
   "execution_count": 16,
   "metadata": {},
   "outputs": [
    {
     "name": "stderr",
     "output_type": "stream",
     "text": [
      "C:\\Users\\tj610\\Anaconda3\\envs\\Uni\\lib\\site-packages\\matplotlib\\font_manager.py:1241: UserWarning: findfont: Font family ['normal'] not found. Falling back to DejaVu Sans.\n",
      "  (prop.get_family(), self.defaultFamily[fontext]))\n"
     ]
    },
    {
     "data": {
      "image/png": "[encoded data removed]",
      "text/plain": [
       "<Figure size 432x288 with 1 Axes>"
      ]
     },
     "metadata": {
      "needs_background": "light"
     },
     "output_type": "display_data"
    }
   ],
   "source": [
    "from sklearn.metrics import roc_auc_score\n",
    "from sklearn.metrics import roc_curve\n",
    "rf_roc_auc = roc_auc_score(predict_test, play_predict)\n",
    "fpr, tpr, thresholds = roc_curve(predict_test, rf_probs, pos_label=1)\n",
    "plt.figure()\n",
    "plt.plot(fpr, tpr, label='Random Forest (area = %0.2f)' % rf_roc_auc)\n",
    "plt.plot([0, 1], [0, 1],'r--')\n",
    "plt.xlim([0.0, 1.0])\n",
    "plt.ylim([0.0, 1.05])\n",
    "plt.xlabel('False Positive Rate')\n",
    "plt.ylabel('True Positive Rate')\n",
    "plt.title('Receiver operating characteristic')\n",
    "plt.legend(loc=\"lower right\")\n",
    "plt.savefig('Log_ROC')\n",
    "plt.show()"
   ]
  },
  {
   "cell_type": "code",
   "execution_count": 17,
   "metadata": {},
   "outputs": [],
   "source": [
    "train_rf_predictions = rf.predict(play_train)\n",
    "train_rf_probs = rf.predict_proba(play_train)[:, 1]"
   ]
  },
  {
   "cell_type": "code",
   "execution_count": 18,
   "metadata": {},
   "outputs": [
    {
     "name": "stdout",
     "output_type": "stream",
     "text": [
      "Recall Baseline: 1.0 Test: 0.73 Train: 1.0\n",
      "Precision Baseline: 0.57 Test: 0.73 Train: 1.0\n",
      "Roc Baseline: 0.5 Test: 0.76 Train: 1.0\n"
     ]
    }
   ],
   "source": [
    "from sklearn.metrics import precision_score, recall_score\n",
    "baseline = {}\n",
    "\n",
    "baseline['recall'] = recall_score(predict_test, \n",
    "                                 [1 for _ in range(len(predict_test))])\n",
    "baseline['precision'] = precision_score(predict_test, \n",
    "                                  [1 for _ in range(len(predict_test))])\n",
    "baseline['roc'] = 0.5\n",
    "\n",
    "results = {}\n",
    "\n",
    "results['recall'] = recall_score(predict_test, play_predict)\n",
    "results['precision'] = precision_score(predict_test, play_predict)\n",
    "results['roc'] = roc_auc_score(predict_test, rf_probs)\n",
    "\n",
    "train_results = {}\n",
    "train_results['recall'] = recall_score(predict_train, train_rf_predictions)\n",
    "train_results['precision'] = precision_score(predict_train, train_rf_predictions)\n",
    "train_results['roc'] = roc_auc_score(predict_train, train_rf_probs)\n",
    "\n",
    "for metric in ['recall', 'precision', 'roc']:\n",
    "    print(f'{metric.capitalize()} Baseline: {round(baseline[metric], 2)} Test: {round(results[metric], 2)} Train: {round(train_results[metric], 2)}')"
   ]
  },
  {
   "cell_type": "code",
   "execution_count": 19,
   "metadata": {},
   "outputs": [
    {
     "data": {
      "text/html": [
       "<div>\n",
       "<style scoped>\n",
       "    .dataframe tbody tr th:only-of-type {\n",
       "        vertical-align: middle;\n",
       "    }\n",
       "\n",
       "    .dataframe tbody tr th {\n",
       "        vertical-align: top;\n",
       "    }\n",
       "\n",
       "    .dataframe thead th {\n",
       "        text-align: right;\n",
       "    }\n",
       "</style>\n",
       "<table border=\"1\" class=\"dataframe\">\n",
       "  <thead>\n",
       "    <tr style=\"text-align: right;\">\n",
       "      <th></th>\n",
       "      <th>feature</th>\n",
       "      <th>importance</th>\n",
       "    </tr>\n",
       "  </thead>\n",
       "  <tbody>\n",
       "    <tr>\n",
       "      <th>3</th>\n",
       "      <td>StadiumID</td>\n",
       "      <td>0.134500</td>\n",
       "    </tr>\n",
       "    <tr>\n",
       "      <th>19</th>\n",
       "      <td>OffenseWinLossRatio</td>\n",
       "      <td>0.115672</td>\n",
       "    </tr>\n",
       "    <tr>\n",
       "      <th>20</th>\n",
       "      <td>DefenseWinLossRatio</td>\n",
       "      <td>0.113865</td>\n",
       "    </tr>\n",
       "    <tr>\n",
       "      <th>5</th>\n",
       "      <td>Shotgun</td>\n",
       "      <td>0.093727</td>\n",
       "    </tr>\n",
       "    <tr>\n",
       "      <th>12</th>\n",
       "      <td>MinutesLeftInQuarter</td>\n",
       "      <td>0.092114</td>\n",
       "    </tr>\n",
       "    <tr>\n",
       "      <th>0</th>\n",
       "      <td>FieldZoneID</td>\n",
       "      <td>0.064764</td>\n",
       "    </tr>\n",
       "    <tr>\n",
       "      <th>8</th>\n",
       "      <td>Down</td>\n",
       "      <td>0.059765</td>\n",
       "    </tr>\n",
       "    <tr>\n",
       "      <th>2</th>\n",
       "      <td>SpeedID</td>\n",
       "      <td>0.043908</td>\n",
       "    </tr>\n",
       "    <tr>\n",
       "      <th>18</th>\n",
       "      <td>PointsDifferenceBucketID</td>\n",
       "      <td>0.041337</td>\n",
       "    </tr>\n",
       "    <tr>\n",
       "      <th>7</th>\n",
       "      <td>QBisRookie</td>\n",
       "      <td>0.029323</td>\n",
       "    </tr>\n",
       "    <tr>\n",
       "      <th>10</th>\n",
       "      <td>TimeoutsLeft</td>\n",
       "      <td>0.028057</td>\n",
       "    </tr>\n",
       "    <tr>\n",
       "      <th>6</th>\n",
       "      <td>AtHome</td>\n",
       "      <td>0.024315</td>\n",
       "    </tr>\n",
       "    <tr>\n",
       "      <th>15</th>\n",
       "      <td>GameQuarter</td>\n",
       "      <td>0.022866</td>\n",
       "    </tr>\n",
       "    <tr>\n",
       "      <th>17</th>\n",
       "      <td>DefensePointsBucketID</td>\n",
       "      <td>0.022528</td>\n",
       "    </tr>\n",
       "    <tr>\n",
       "      <th>16</th>\n",
       "      <td>OffensePointsBucketID</td>\n",
       "      <td>0.022264</td>\n",
       "    </tr>\n",
       "    <tr>\n",
       "      <th>1</th>\n",
       "      <td>ConditionTypeID</td>\n",
       "      <td>0.019110</td>\n",
       "    </tr>\n",
       "    <tr>\n",
       "      <th>4</th>\n",
       "      <td>SurfaceTypeID</td>\n",
       "      <td>0.018388</td>\n",
       "    </tr>\n",
       "    <tr>\n",
       "      <th>9</th>\n",
       "      <td>yardsToGoBucket</td>\n",
       "      <td>0.015988</td>\n",
       "    </tr>\n",
       "    <tr>\n",
       "      <th>13</th>\n",
       "      <td>SecondsInHalfBucketID</td>\n",
       "      <td>0.015103</td>\n",
       "    </tr>\n",
       "    <tr>\n",
       "      <th>14</th>\n",
       "      <td>SecondsInGameBucketID</td>\n",
       "      <td>0.014898</td>\n",
       "    </tr>\n",
       "    <tr>\n",
       "      <th>11</th>\n",
       "      <td>SecondsInQuarterBucketID</td>\n",
       "      <td>0.007509</td>\n",
       "    </tr>\n",
       "  </tbody>\n",
       "</table>\n",
       "</div>"
      ],
      "text/plain": [
       "                     feature  importance\n",
       "3                  StadiumID    0.134500\n",
       "19       OffenseWinLossRatio    0.115672\n",
       "20       DefenseWinLossRatio    0.113865\n",
       "5                    Shotgun    0.093727\n",
       "12      MinutesLeftInQuarter    0.092114\n",
       "0                FieldZoneID    0.064764\n",
       "8                       Down    0.059765\n",
       "2                    SpeedID    0.043908\n",
       "18  PointsDifferenceBucketID    0.041337\n",
       "7                 QBisRookie    0.029323\n",
       "10              TimeoutsLeft    0.028057\n",
       "6                     AtHome    0.024315\n",
       "15               GameQuarter    0.022866\n",
       "17     DefensePointsBucketID    0.022528\n",
       "16     OffensePointsBucketID    0.022264\n",
       "1            ConditionTypeID    0.019110\n",
       "4              SurfaceTypeID    0.018388\n",
       "9            yardsToGoBucket    0.015988\n",
       "13     SecondsInHalfBucketID    0.015103\n",
       "14     SecondsInGameBucketID    0.014898\n",
       "11  SecondsInQuarterBucketID    0.007509"
      ]
     },
     "execution_count": 19,
     "metadata": {},
     "output_type": "execute_result"
    }
   ],
   "source": [
    "# Extract feature importances\n",
    "fi = pd.DataFrame({'feature': list(play_train.columns),\n",
    "                   'importance': rf.feature_importances_}).\\\n",
    "                    sort_values('importance', ascending = False)\n",
    "\n",
    "# Display\n",
    "fi"
   ]
  },
  {
   "cell_type": "code",
   "execution_count": 20,
   "metadata": {},
   "outputs": [
    {
     "name": "stdout",
     "output_type": "stream",
     "text": [
      "Average number of nodes 253131\n",
      "Average maximum depth 51\n"
     ]
    }
   ],
   "source": [
    "import numpy as np\n",
    "n_nodes = []\n",
    "max_depths = []\n",
    "for ind_tree in rf.estimators_:\n",
    "    n_nodes.append(ind_tree.tree_.node_count)\n",
    "    max_depths.append(ind_tree.tree_.max_depth)\n",
    "    \n",
    "print(f'Average number of nodes {int(np.mean(n_nodes))}')\n",
    "print(f'Average maximum depth {int(np.mean(max_depths))}')"
   ]
  },
  {
   "cell_type": "code",
   "execution_count": 21,
   "metadata": {},
   "outputs": [],
   "source": [
    "from sklearn.tree import export_graphviz"
   ]
  },
  {
   "cell_type": "code",
   "execution_count": 22,
   "metadata": {},
   "outputs": [],
   "source": [
    "estimator = rf.estimators_[5]\n",
    "export_graphviz(estimator, \n",
    "                out_file='C:\\\\Users\\\\tj610\\\\OneDrive\\\\Documents\\\\Uni\\\\Disertation\\\\output\\\\tree.dot', \n",
    "                feature_names = play_train.columns.values.tolist(),\n",
    "                class_names = ['1','2'],\n",
    "                rounded = True,\n",
    "                proportion = False,\n",
    "                precision = 2,\n",
    "                filled = False)"
   ]
  }
 ],
 "metadata": {
  "kernelspec": {
   "display_name": "Python [conda env:uni] *",
   "language": "python",
   "name": "conda-env-uni-py"
  },
  "language_info": {
   "codemirror_mode": {
    "name": "ipython",
    "version": 3
   },
   "file_extension": ".py",
   "mimetype": "text/x-python",
   "name": "python",
   "nbconvert_exporter": "python",
   "pygments_lexer": "ipython3",
   "version": "3.6.8"
  }
 },
 "nbformat": 4,
 "nbformat_minor": 2
}

{
 "cells": [
  {
   "cell_type": "code",
   "execution_count": 12,
   "metadata": {},
   "outputs": [],
   "source": [
    "query = \"\"\"\n",
    "SELECT \n",
    "      [FieldZoneID]\n",
    "      ,PlayTypeID - 1 as PlayTypeID\n",
    "      ,[ConditionTypeID]\n",
    "      ,[SpeedID]\n",
    "      ,[StadiumID]\n",
    "      ,surf.[SurfaceTypeID]\n",
    "      ,cast([Shotgun] as int) as Shotgun\n",
    "      ,cast([AtHome] as int) as AtHome\n",
    "      ,cast([QBisRookie] as int) as QBisRookie\n",
    "      ,[Down]\n",
    "      ,CASE\n",
    "            WHEN yardsToGo < 11 THEN 1\n",
    "            WHEN yardsToGo < 15 THEN 2\n",
    "            WHEN yardsToGo < 20 THEN 3\n",
    "            WHEN yardsToGo < 30 THEN 4\n",
    "            ELSE 5\n",
    "       END as yardsToGoBucket\n",
    "      ,[TimeoutsLeft]\n",
    "      ,qsb.SecondsBucketID as SecondsInQuarterBucketID\n",
    "      ,[SecondsLeftInQuarter]/60 as [MinutesLeftInQuarter]\n",
    "      ,hsb.SecondsBucketID as SecondsInHalfBucketID\n",
    "      ,gsb.SecondsBucketID as SecondsInGameBucketID\n",
    "      ,[GameQuarter]\n",
    "      ,opb.PointsBucketID as OffensePointsBucketID\n",
    "      ,dpb.PointsBucketID as DefensePointsBucketID\n",
    "      ,pdb.PointsBucketID as PointsDifferenceBucketID\n",
    "      ,p.OffenseWinLossRatio\n",
    "      ,p.DefenseWinLossRatio\n",
    "  FROM [NFL_Prediction].[nfl].[f_play] p\n",
    "  INNER JOIN [NFL_Prediction].[nfl].[d_team] o on p.OffenseID = o.TeamID\n",
    "  INNER JOIN [NFL_Prediction].[nfl].[d_team] d on p.DefenceID = d.TeamID\n",
    "  INNER JOIN [NFL_Prediction].[nfl].[d_weather] w on p.WeatherID = w.WeatherID\n",
    "  INNER JOIN [NFL_Prediction].[nfl].[d_surface] surf on p.SurfaceID = surf.SurfaceID\n",
    "  INNER JOIN [NFL_Prediction].[nfl].[d_seconds_buckets] qsb on p.SecondsLeftInQuarterBucketID = qsb.SecondsBucketID\n",
    "  INNER JOIN [NFL_Prediction].[nfl].[d_seconds_buckets] hsb on p.SecondsLeftInHalfBucketID = hsb.SecondsBucketID\n",
    "  INNER JOIN [NFL_Prediction].[nfl].[d_seconds_buckets] gsb on p.SecondsLeftInHalfBucketID = gsb.SecondsBucketID\n",
    "  INNER JOIN [NFL_Prediction].[nfl].[d_points_buckets] opb on p.OffensePointsBucketID = opb.PointsBucketID\n",
    "  INNER JOIN [NFL_Prediction].[nfl].[d_points_buckets] dpb on p.DefensePointsBucketID = dpb.PointsBucketID\n",
    "  INNER JOIN [NFL_Prediction].[nfl].[d_points_buckets] pdb on p.PointsDifferenceBucketID = pdb.PointsBucketID\n",
    "  where MainPlayerID is not null\n",
    "\"\"\""
   ]
  },
  {
   "cell_type": "code",
   "execution_count": 13,
   "metadata": {},
   "outputs": [],
   "source": [
    "import matplotlib\n",
    "import matplotlib.pyplot as plt\n",
    "import numpy as np\n",
    "import pandas as pd\n",
    "import seaborn as sns\n",
    "sns.set(style=\"white\")\n",
    "sns.set(style=\"whitegrid\", color_codes=True)"
   ]
  },
  {
   "cell_type": "code",
   "execution_count": 14,
   "metadata": {},
   "outputs": [],
   "source": [
    "import pyodbc\n",
    "sql_conn = pyodbc.connect('DRIVER={ODBC Driver 13 for SQL Server};SERVER=localhost\\\\uni;DATABASE=NFL_Prediction;Trusted_Connection=yes')\n",
    "df = pd.read_sql(query, sql_conn)"
   ]
  },
  {
   "cell_type": "code",
   "execution_count": 15,
   "metadata": {},
   "outputs": [
    {
     "data": {
      "text/plain": [
       "['FieldZoneID',\n",
       " 'ConditionTypeID',\n",
       " 'SpeedID',\n",
       " 'StadiumID',\n",
       " 'SurfaceTypeID',\n",
       " 'Shotgun',\n",
       " 'AtHome',\n",
       " 'QBisRookie',\n",
       " 'Down',\n",
       " 'yardsToGoBucket',\n",
       " 'TimeoutsLeft',\n",
       " 'SecondsInQuarterBucketID',\n",
       " 'MinutesLeftInQuarter',\n",
       " 'SecondsInHalfBucketID',\n",
       " 'SecondsInGameBucketID',\n",
       " 'GameQuarter',\n",
       " 'OffensePointsBucketID',\n",
       " 'DefensePointsBucketID',\n",
       " 'PointsDifferenceBucketID',\n",
       " 'OffenseWinLossRatio',\n",
       " 'DefenseWinLossRatio']"
      ]
     },
     "execution_count": 15,
     "metadata": {},
     "output_type": "execute_result"
    }
   ],
   "source": [
    "features = df.drop('PlayTypeID', axis=1).columns.values.tolist()\n",
    "y=['PlayTypeID']\n",
    "x=[i for i in features if i not in y]\n",
    "x"
   ]
  },
  {
   "cell_type": "code",
   "execution_count": 16,
   "metadata": {},
   "outputs": [],
   "source": [
    "from sklearn.feature_selection import RFE\n",
    "from sklearn.linear_model import LogisticRegression"
   ]
  },
  {
   "cell_type": "code",
   "execution_count": 17,
   "metadata": {},
   "outputs": [],
   "source": [
    "logreg = LogisticRegression()"
   ]
  },
  {
   "cell_type": "code",
   "execution_count": 18,
   "metadata": {},
   "outputs": [
    {
     "data": {
      "text/html": [
       "<div>\n",
       "<style scoped>\n",
       "    .dataframe tbody tr th:only-of-type {\n",
       "        vertical-align: middle;\n",
       "    }\n",
       "\n",
       "    .dataframe tbody tr th {\n",
       "        vertical-align: top;\n",
       "    }\n",
       "\n",
       "    .dataframe thead th {\n",
       "        text-align: right;\n",
       "    }\n",
       "</style>\n",
       "<table border=\"1\" class=\"dataframe\">\n",
       "  <thead>\n",
       "    <tr style=\"text-align: right;\">\n",
       "      <th></th>\n",
       "      <th>FieldZoneID</th>\n",
       "      <th>ConditionTypeID</th>\n",
       "      <th>SpeedID</th>\n",
       "      <th>StadiumID</th>\n",
       "      <th>SurfaceTypeID</th>\n",
       "      <th>Shotgun</th>\n",
       "      <th>AtHome</th>\n",
       "      <th>QBisRookie</th>\n",
       "      <th>Down</th>\n",
       "      <th>yardsToGoBucket</th>\n",
       "      <th>...</th>\n",
       "      <th>SecondsInQuarterBucketID</th>\n",
       "      <th>MinutesLeftInQuarter</th>\n",
       "      <th>SecondsInHalfBucketID</th>\n",
       "      <th>SecondsInGameBucketID</th>\n",
       "      <th>GameQuarter</th>\n",
       "      <th>OffensePointsBucketID</th>\n",
       "      <th>DefensePointsBucketID</th>\n",
       "      <th>PointsDifferenceBucketID</th>\n",
       "      <th>OffenseWinLossRatio</th>\n",
       "      <th>DefenseWinLossRatio</th>\n",
       "    </tr>\n",
       "  </thead>\n",
       "  <tbody>\n",
       "    <tr>\n",
       "      <th>0</th>\n",
       "      <td>3</td>\n",
       "      <td>6</td>\n",
       "      <td>2</td>\n",
       "      <td>61</td>\n",
       "      <td>1</td>\n",
       "      <td>0</td>\n",
       "      <td>1</td>\n",
       "      <td>0</td>\n",
       "      <td>2</td>\n",
       "      <td>1</td>\n",
       "      <td>...</td>\n",
       "      <td>2</td>\n",
       "      <td>8</td>\n",
       "      <td>5</td>\n",
       "      <td>5</td>\n",
       "      <td>3</td>\n",
       "      <td>6</td>\n",
       "      <td>7</td>\n",
       "      <td>4</td>\n",
       "      <td>0</td>\n",
       "      <td>0</td>\n",
       "    </tr>\n",
       "    <tr>\n",
       "      <th>1</th>\n",
       "      <td>1</td>\n",
       "      <td>6</td>\n",
       "      <td>2</td>\n",
       "      <td>61</td>\n",
       "      <td>1</td>\n",
       "      <td>0</td>\n",
       "      <td>0</td>\n",
       "      <td>0</td>\n",
       "      <td>1</td>\n",
       "      <td>1</td>\n",
       "      <td>...</td>\n",
       "      <td>2</td>\n",
       "      <td>7</td>\n",
       "      <td>5</td>\n",
       "      <td>5</td>\n",
       "      <td>3</td>\n",
       "      <td>7</td>\n",
       "      <td>6</td>\n",
       "      <td>7</td>\n",
       "      <td>0</td>\n",
       "      <td>0</td>\n",
       "    </tr>\n",
       "    <tr>\n",
       "      <th>2</th>\n",
       "      <td>1</td>\n",
       "      <td>6</td>\n",
       "      <td>2</td>\n",
       "      <td>61</td>\n",
       "      <td>1</td>\n",
       "      <td>0</td>\n",
       "      <td>0</td>\n",
       "      <td>0</td>\n",
       "      <td>2</td>\n",
       "      <td>1</td>\n",
       "      <td>...</td>\n",
       "      <td>2</td>\n",
       "      <td>7</td>\n",
       "      <td>5</td>\n",
       "      <td>5</td>\n",
       "      <td>3</td>\n",
       "      <td>7</td>\n",
       "      <td>6</td>\n",
       "      <td>7</td>\n",
       "      <td>0</td>\n",
       "      <td>0</td>\n",
       "    </tr>\n",
       "  </tbody>\n",
       "</table>\n",
       "<p>3 rows × 21 columns</p>\n",
       "</div>"
      ],
      "text/plain": [
       "   FieldZoneID  ConditionTypeID  SpeedID  StadiumID  SurfaceTypeID  Shotgun  \\\n",
       "0            3                6        2         61              1        0   \n",
       "1            1                6        2         61              1        0   \n",
       "2            1                6        2         61              1        0   \n",
       "\n",
       "   AtHome  QBisRookie  Down  yardsToGoBucket  ...  SecondsInQuarterBucketID  \\\n",
       "0       1           0     2                1  ...                         2   \n",
       "1       0           0     1                1  ...                         2   \n",
       "2       0           0     2                1  ...                         2   \n",
       "\n",
       "   MinutesLeftInQuarter  SecondsInHalfBucketID  SecondsInGameBucketID  \\\n",
       "0                     8                      5                      5   \n",
       "1                     7                      5                      5   \n",
       "2                     7                      5                      5   \n",
       "\n",
       "   GameQuarter  OffensePointsBucketID  DefensePointsBucketID  \\\n",
       "0            3                      6                      7   \n",
       "1            3                      7                      6   \n",
       "2            3                      7                      6   \n",
       "\n",
       "   PointsDifferenceBucketID  OffenseWinLossRatio  DefenseWinLossRatio  \n",
       "0                         4                    0                    0  \n",
       "1                         7                    0                    0  \n",
       "2                         7                    0                    0  \n",
       "\n",
       "[3 rows x 21 columns]"
      ]
     },
     "execution_count": 18,
     "metadata": {},
     "output_type": "execute_result"
    }
   ],
   "source": [
    "# drop the prediction column\n",
    "play_df = df.drop(['PlayTypeID'], axis=1)\n",
    "play_df.head(3)"
   ]
  },
  {
   "cell_type": "code",
   "execution_count": 19,
   "metadata": {},
   "outputs": [
    {
     "data": {
      "text/plain": [
       "array([0, 1], dtype=int64)"
      ]
     },
     "execution_count": 19,
     "metadata": {},
     "output_type": "execute_result"
    }
   ],
   "source": [
    "# Split out the prediction column into separate dataframe\n",
    "predict_df = df.filter(['PlayTypeID'], axis=1)\n",
    "predict_df.PlayTypeID.unique()"
   ]
  },
  {
   "cell_type": "code",
   "execution_count": 20,
   "metadata": {},
   "outputs": [
    {
     "name": "stderr",
     "output_type": "stream",
     "text": [
      "C:\\Users\\tj610\\Anaconda3\\envs\\Uni\\lib\\site-packages\\sklearn\\linear_model\\logistic.py:432: FutureWarning: Default solver will be changed to 'lbfgs' in 0.22. Specify a solver to silence this warning.\n",
      "  FutureWarning)\n",
      "C:\\Users\\tj610\\Anaconda3\\envs\\Uni\\lib\\site-packages\\sklearn\\linear_model\\logistic.py:432: FutureWarning: Default solver will be changed to 'lbfgs' in 0.22. Specify a solver to silence this warning.\n",
      "  FutureWarning)\n"
     ]
    },
    {
     "name": "stdout",
     "output_type": "stream",
     "text": [
      "[ True  True  True False  True  True  True  True  True  True  True  True\n",
      "  True  True  True  True  True  True  True  True  True]\n",
      "[1 1 1 2 1 1 1 1 1 1 1 1 1 1 1 1 1 1 1 1 1]\n"
     ]
    }
   ],
   "source": [
    "rfe = RFE(logreg, 20)\n",
    "rfe = rfe.fit(play_df, predict_df.values.ravel())\n",
    "print(rfe.support_)\n",
    "print(rfe.ranking_)"
   ]
  },
  {
   "cell_type": "markdown",
   "metadata": {},
   "source": [
    "Use all columns!"
   ]
  },
  {
   "cell_type": "code",
   "execution_count": 21,
   "metadata": {},
   "outputs": [
    {
     "name": "stdout",
     "output_type": "stream",
     "text": [
      "Warning: Maximum number of iterations has been exceeded.\n",
      "         Current function value: 0.575560\n",
      "         Iterations: 35\n"
     ]
    },
    {
     "name": "stderr",
     "output_type": "stream",
     "text": [
      "C:\\Users\\tj610\\Anaconda3\\envs\\Uni\\lib\\site-packages\\statsmodels\\base\\model.py:512: ConvergenceWarning: Maximum Likelihood optimization failed to converge. Check mle_retvals\n",
      "  \"Check mle_retvals\", ConvergenceWarning)\n"
     ]
    },
    {
     "name": "stdout",
     "output_type": "stream",
     "text": [
      "                                   Results: Logit\n",
      "====================================================================================\n",
      "Model:                    Logit                  Pseudo R-squared:       0.158      \n",
      "Dependent Variable:       PlayTypeID             AIC:                    736657.3836\n",
      "Date:                     2019-12-16 20:51       BIC:                    736884.7654\n",
      "No. Observations:         639914                 Log-Likelihood:         -3.6831e+05\n",
      "Df Model:                 19                     LL-Null:                -4.3745e+05\n",
      "Df Residuals:             639894                 LLR p-value:            0.0000     \n",
      "Converged:                0.0000                 Scale:                  1.0000     \n",
      "No. Iterations:           35.0000                                                   \n",
      "------------------------------------------------------------------------------------\n",
      "                          Coef.    Std.Err.      z     P>|z|     [0.025     0.975]  \n",
      "------------------------------------------------------------------------------------\n",
      "FieldZoneID                0.0529     0.0022   23.6155 0.0000      0.0485     0.0573\n",
      "ConditionTypeID           -0.0092     0.0028   -3.2608 0.0011     -0.0147    -0.0037\n",
      "SpeedID                    0.0206     0.0027    7.7561 0.0000      0.0154     0.0258\n",
      "StadiumID                 -0.0001     0.0001   -0.6331 0.5267     -0.0003     0.0002\n",
      "SurfaceTypeID              0.0470     0.0058    8.1265 0.0000      0.0357     0.0583\n",
      "Shotgun                   -1.3888     0.0064 -216.0608 0.0000     -1.4014    -1.3762\n",
      "AtHome                    -0.0396     0.0057   -6.9967 0.0000     -0.0508    -0.0285\n",
      "QBisRookie               -23.6842   973.5333   -0.0243 0.9806  -1931.7744  1884.4059\n",
      "Down                      -0.3698     0.0037 -101.3116 0.0000     -0.3770    -0.3627\n",
      "yardsToGoBucket           -0.2038     0.0053  -38.5677 0.0000     -0.2141    -0.1934\n",
      "TimeoutsLeft               0.1492     0.0043   34.7277 0.0000      0.1408     0.1576\n",
      "SecondsInQuarterBucketID  -0.0726     0.0105   -6.9173 0.0000     -0.0932    -0.0520\n",
      "MinutesLeftInQuarter       0.0132     0.0019    6.7891 0.0000      0.0094     0.0170\n",
      "SecondsInHalfBucketID      0.0037 48434.9052    0.0000 1.0000 -94930.6661 94930.6735\n",
      "SecondsInGameBucketID      0.0037 48434.9052    0.0000 1.0000 -94930.6661 94930.6735\n",
      "GameQuarter                0.0188     0.0035    5.3332 0.0000      0.0119     0.0257\n",
      "OffensePointsBucketID      0.2259     0.0066   34.2195 0.0000      0.2130     0.2388\n",
      "DefensePointsBucketID     -0.1992     0.0045  -43.8184 0.0000     -0.2081    -0.1903\n",
      "PointsDifferenceBucketID   0.0849     0.0047   18.2094 0.0000      0.0758     0.0941\n",
      "OffenseWinLossRatio       -0.0079     0.0007  -11.9014 0.0000     -0.0092    -0.0066\n",
      "DefenseWinLossRatio       -0.0109     0.0007  -16.3269 0.0000     -0.0123    -0.0096\n",
      "====================================================================================\n",
      "\n"
     ]
    }
   ],
   "source": [
    "import statsmodels.api as sm\n",
    "logit_model=sm.Logit(predict_df, play_df)\n",
    "result=logit_model.fit()\n",
    "print(result.summary2())"
   ]
  },
  {
   "cell_type": "code",
   "execution_count": 22,
   "metadata": {},
   "outputs": [
    {
     "name": "stdout",
     "output_type": "stream",
     "text": [
      "Optimization terminated successfully.\n",
      "         Current function value: 0.595983\n",
      "         Iterations 5\n"
     ]
    },
    {
     "name": "stderr",
     "output_type": "stream",
     "text": [
      "C:\\Users\\tj610\\Anaconda3\\envs\\Uni\\lib\\site-packages\\statsmodels\\base\\model.py:1286: RuntimeWarning: invalid value encountered in sqrt\n",
      "  bse_ = np.sqrt(np.diag(self.cov_params()))\n",
      "C:\\Users\\tj610\\Anaconda3\\envs\\Uni\\lib\\site-packages\\scipy\\stats\\_distn_infrastructure.py:877: RuntimeWarning: invalid value encountered in greater\n",
      "  return (self.a < x) & (x < self.b)\n",
      "C:\\Users\\tj610\\Anaconda3\\envs\\Uni\\lib\\site-packages\\scipy\\stats\\_distn_infrastructure.py:877: RuntimeWarning: invalid value encountered in less\n",
      "  return (self.a < x) & (x < self.b)\n",
      "C:\\Users\\tj610\\Anaconda3\\envs\\Uni\\lib\\site-packages\\scipy\\stats\\_distn_infrastructure.py:1831: RuntimeWarning: invalid value encountered in less_equal\n",
      "  cond2 = cond0 & (x <= self.a)\n"
     ]
    },
    {
     "name": "stdout",
     "output_type": "stream",
     "text": [
      "                              Results: Logit\n",
      "==========================================================================\n",
      "Model:                  Logit              Pseudo R-squared:   0.128      \n",
      "Dependent Variable:     PlayTypeID         AIC:                762791.5969\n",
      "Date:                   2019-12-16 20:52   BIC:                762996.2405\n",
      "No. Observations:       639914             Log-Likelihood:     -3.8138e+05\n",
      "Df Model:               17                 LL-Null:            -4.3745e+05\n",
      "Df Residuals:           639896             LLR p-value:        0.0000     \n",
      "Converged:              1.0000             Scale:              1.0000     \n",
      "No. Iterations:         5.0000                                            \n",
      "--------------------------------------------------------------------------\n",
      "                          Coef.  Std.Err.     z     P>|z|   [0.025  0.975]\n",
      "--------------------------------------------------------------------------\n",
      "FieldZoneID               0.0567   0.0022   25.7022 0.0000  0.0524  0.0610\n",
      "ConditionTypeID          -0.0087   0.0028   -3.1671 0.0015 -0.0142 -0.0033\n",
      "SpeedID                   0.0174   0.0026    6.6808 0.0000  0.0123  0.0224\n",
      "SurfaceTypeID             0.0349   0.0057    6.1670 0.0000  0.0238  0.0459\n",
      "Shotgun                  -1.3905   0.0064 -218.8872 0.0000 -1.4030 -1.3781\n",
      "AtHome                   -0.0449   0.0056   -8.0603 0.0000 -0.0558 -0.0340\n",
      "Down                     -0.3751   0.0036 -104.2820 0.0000 -0.3821 -0.3680\n",
      "yardsToGoBucket          -0.2122   0.0052  -40.6688 0.0000 -0.2224 -0.2019\n",
      "TimeoutsLeft              0.1481   0.0042   35.0452 0.0000  0.1398  0.1564\n",
      "SecondsInQuarterBucketID -0.0789   0.0103   -7.6402 0.0000 -0.0991 -0.0586\n",
      "MinutesLeftInQuarter      0.0143   0.0019    7.5027 0.0000  0.0106  0.0181\n",
      "SecondsInHalfBucketID     0.0037      nan       nan    nan     nan     nan\n",
      "SecondsInGameBucketID     0.0037      nan       nan    nan     nan     nan\n",
      "GameQuarter               0.0197   0.0035    5.6864 0.0000  0.0129  0.0264\n",
      "OffensePointsBucketID     0.2397   0.0065   36.8719 0.0000  0.2270  0.2525\n",
      "DefensePointsBucketID    -0.2198   0.0044  -49.4112 0.0000 -0.2285 -0.2111\n",
      "PointsDifferenceBucketID  0.0831   0.0046   18.1506 0.0000  0.0741  0.0921\n",
      "OffenseWinLossRatio      -0.0015   0.0007   -2.2723 0.0231 -0.0028 -0.0002\n",
      "DefenseWinLossRatio      -0.0047   0.0007   -7.2241 0.0000 -0.0060 -0.0035\n",
      "==========================================================================\n",
      "\n"
     ]
    }
   ],
   "source": [
    "import statsmodels.api as sm\n",
    "logit_model=sm.Logit(predict_df, play_df.drop(['QBisRookie','StadiumID'], axis=1))\n",
    "result=logit_model.fit()\n",
    "print(result.summary2())"
   ]
  },
  {
   "cell_type": "code",
   "execution_count": 23,
   "metadata": {},
   "outputs": [
    {
     "name": "stderr",
     "output_type": "stream",
     "text": [
      "C:\\Users\\tj610\\Anaconda3\\envs\\Uni\\lib\\site-packages\\sklearn\\linear_model\\logistic.py:432: FutureWarning: Default solver will be changed to 'lbfgs' in 0.22. Specify a solver to silence this warning.\n",
      "  FutureWarning)\n",
      "C:\\Users\\tj610\\Anaconda3\\envs\\Uni\\lib\\site-packages\\sklearn\\utils\\validation.py:724: DataConversionWarning: A column-vector y was passed when a 1d array was expected. Please change the shape of y to (n_samples, ), for example using ravel().\n",
      "  y = column_or_1d(y, warn=True)\n"
     ]
    },
    {
     "data": {
      "text/plain": [
       "LogisticRegression(C=1.0, class_weight=None, dual=False, fit_intercept=True,\n",
       "                   intercept_scaling=1, l1_ratio=None, max_iter=100,\n",
       "                   multi_class='warn', n_jobs=None, penalty='l2',\n",
       "                   random_state=None, solver='warn', tol=0.0001, verbose=0,\n",
       "                   warm_start=False)"
      ]
     },
     "execution_count": 23,
     "metadata": {},
     "output_type": "execute_result"
    }
   ],
   "source": [
    "from sklearn.linear_model import LogisticRegression\n",
    "from sklearn.model_selection import train_test_split\n",
    "from sklearn import metrics\n",
    "X_train, X_test, y_train, y_test = train_test_split(play_df, predict_df, test_size=0.3, random_state=0)\n",
    "logreg = LogisticRegression()\n",
    "logreg.fit(X_train, y_train)"
   ]
  },
  {
   "cell_type": "code",
   "execution_count": 24,
   "metadata": {},
   "outputs": [
    {
     "name": "stdout",
     "output_type": "stream",
     "text": [
      "Accuracy of logistic regression classifier on test set: 68.71\n"
     ]
    }
   ],
   "source": [
    "y_pred = logreg.predict(X_test)\n",
    "print('Accuracy of logistic regression classifier on test set: {:.2f}'.format(logreg.score(X_test, y_test)*100))"
   ]
  },
  {
   "cell_type": "code",
   "execution_count": 25,
   "metadata": {},
   "outputs": [
    {
     "name": "stdout",
     "output_type": "stream",
     "text": [
      "[[73859 35432]\n",
      " [24634 58050]]\n"
     ]
    },
    {
     "data": {
      "text/plain": [
       "<matplotlib.axes._subplots.AxesSubplot at 0x20592ac4f98>"
      ]
     },
     "execution_count": 25,
     "metadata": {},
     "output_type": "execute_result"
    },
    {
     "data": {
      "image/png": "[encoded data removed]",
      "text/plain": [
       "<Figure size 720x504 with 2 Axes>"
      ]
     },
     "metadata": {},
     "output_type": "display_data"
    }
   ],
   "source": [
    "from sklearn.metrics import confusion_matrix\n",
    "confusion_matrix = confusion_matrix(y_test, y_pred)\n",
    "print(confusion_matrix)\n",
    "\n",
    "import seaborn as sns\n",
    "plt.figure(figsize = (10,7))\n",
    "sns.heatmap(confusion_matrix, annot=False)"
   ]
  },
  {
   "cell_type": "code",
   "execution_count": 26,
   "metadata": {},
   "outputs": [
    {
     "name": "stdout",
     "output_type": "stream",
     "text": [
      "              precision    recall  f1-score   support\n",
      "\n",
      "           0       0.75      0.68      0.71    109291\n",
      "           1       0.62      0.70      0.66     82684\n",
      "\n",
      "    accuracy                           0.69    191975\n",
      "   macro avg       0.69      0.69      0.68    191975\n",
      "weighted avg       0.69      0.69      0.69    191975\n",
      "\n"
     ]
    }
   ],
   "source": [
    "from sklearn.metrics import classification_report\n",
    "print(classification_report(y_test, y_pred))"
   ]
  },
  {
   "cell_type": "code",
   "execution_count": 27,
   "metadata": {},
   "outputs": [
    {
     "data": {
      "image/png": "[encoded data removed]",
      "text/plain": [
       "<Figure size 432x288 with 1 Axes>"
      ]
     },
     "metadata": {},
     "output_type": "display_data"
    }
   ],
   "source": [
    "from sklearn.metrics import roc_auc_score\n",
    "from sklearn.metrics import roc_curve\n",
    "logit_roc_auc = roc_auc_score(y_test, logreg.predict(X_test))\n",
    "fpr, tpr, thresholds = roc_curve(y_test, logreg.predict_proba(X_test)[:,1])\n",
    "plt.figure()\n",
    "plt.plot(fpr, tpr, label='Logistic Regression (area = %0.2f)' % logit_roc_auc)\n",
    "plt.plot([0, 1], [0, 1],'r--')\n",
    "plt.xlim([0.0, 1.0])\n",
    "plt.ylim([0.0, 1.05])\n",
    "plt.xlabel('False Positive Rate')\n",
    "plt.ylabel('True Positive Rate')\n",
    "plt.title('Receiver operating characteristic')\n",
    "plt.legend(loc=\"lower right\")\n",
    "plt.savefig('Log_ROC')\n",
    "plt.show()"
   ]
  },
  {
   "cell_type": "code",
   "execution_count": 28,
   "metadata": {},
   "outputs": [
    {
     "data": {
      "text/plain": [
       "array([0.5936504 , 0.39096071, 0.1975225 , ..., 0.66042983, 0.47169411,\n",
       "       0.33464433])"
      ]
     },
     "execution_count": 28,
     "metadata": {},
     "output_type": "execute_result"
    }
   ],
   "source": [
    "logreg.predict_proba(X_test)[:,1]"
   ]
  },
  {
   "cell_type": "code",
   "execution_count": 29,
   "metadata": {},
   "outputs": [],
   "source": [
    "y_pred_df = pd.DataFrame(y_pred)\n",
    "y_test_np = y_test.to_numpy()\n",
    "y_pred_np = y_pred_df.to_numpy()\n",
    "check_prediction_df = pd.DataFrame(np.concatenate((y_test_np, y_pred_np), axis=1))\n",
    "check_prediction_df[0] = check_prediction_df[0] + 1\n",
    "check_prediction_df[1] = check_prediction_df[1] + 1\n",
    "check_prediction_df['correct'] = np.where(check_prediction_df[0] == check_prediction_df[1], 'yes', 'no')"
   ]
  },
  {
   "cell_type": "code",
   "execution_count": 30,
   "metadata": {},
   "outputs": [
    {
     "data": {
      "image/png": "[encoded data removed]",
      "text/plain": [
       "<Figure size 1080x720 with 1 Axes>"
      ]
     },
     "metadata": {},
     "output_type": "display_data"
    }
   ],
   "source": [
    "agg_df = check_prediction_df.groupby([0,'correct']).count()\n",
    "ax = agg_df.plot(kind='bar', title =\"Accuracy\", figsize=(15, 10), legend=False, fontsize=12)\n",
    "ax.set_xlabel(\"(PassType, Correct Prediction)\", fontsize=12)\n",
    "ax.set_ylabel(\"Number of correct predictions\", fontsize=12)\n",
    "plt.show()"
   ]
  },
  {
   "cell_type": "code",
   "execution_count": null,
   "metadata": {},
   "outputs": [],
   "source": []
  }
 ],
 "metadata": {
  "kernelspec": {
   "display_name": "Python [conda env:uni]",
   "language": "python",
   "name": "conda-env-uni-py"
  },
  "language_info": {
   "codemirror_mode": {
    "name": "ipython",
    "version": 3
   },
   "file_extension": ".py",
   "mimetype": "text/x-python",
   "name": "python",
   "nbconvert_exporter": "python",
   "pygments_lexer": "ipython3",
   "version": "3.6.8"
  }
 },
 "nbformat": 4,
 "nbformat_minor": 2
}

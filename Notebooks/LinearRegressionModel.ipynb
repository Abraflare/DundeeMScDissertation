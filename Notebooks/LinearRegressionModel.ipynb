{
 "cells": [
  {
   "cell_type": "code",
   "execution_count": 24,
   "metadata": {},
   "outputs": [],
   "source": [
    "query = \"\"\"\n",
    "SELECT \n",
    "      [FieldZoneID]\n",
    "      ,PlayTypeID - 1 as PlayTypeID\n",
    "      ,[ConditionTypeID]\n",
    "      ,[SpeedID]\n",
    "      ,[StadiumID]\n",
    "      ,surf.[SurfaceTypeID]\n",
    "      ,cast([Shotgun] as int) as Shotgun\n",
    "      ,cast([AtHome] as int) as AtHome\n",
    "      ,cast([QBisRookie] as int) as QBisRookie\n",
    "      ,[Down]\n",
    "      ,CASE\n",
    "            WHEN yardsToGo < 11 THEN 1\n",
    "            WHEN yardsToGo < 15 THEN 2\n",
    "            WHEN yardsToGo < 20 THEN 3\n",
    "            WHEN yardsToGo < 30 THEN 4\n",
    "            ELSE 5\n",
    "       END as yardsToGoBucket\n",
    "      ,[TimeoutsLeft]\n",
    "      ,qsb.SecondsBucketID as SecondsInQuarterBucketID\n",
    "      ,[SecondsLeftInQuarter]/60 as [MinutesLeftInQuarter]\n",
    "      ,hsb.SecondsBucketID as SecondsInHalfBucketID\n",
    "      ,gsb.SecondsBucketID as SecondsInGameBucketID\n",
    "      ,[GameQuarter]\n",
    "      ,opb.PointsBucketID as OffensePointsBucketID\n",
    "      ,dpb.PointsBucketID as DefensePointsBucketID\n",
    "      ,pdb.PointsBucketID as PointsDifferenceBucketID\n",
    "      ,p.OffenseWinLossRatio\n",
    "      ,p.DefenseWinLossRatio\n",
    "  FROM [NFL_Prediction].[nfl].[f_play] p\n",
    "  INNER JOIN [NFL_Prediction].[nfl].[d_team] o on p.OffenseID = o.TeamID\n",
    "  INNER JOIN [NFL_Prediction].[nfl].[d_team] d on p.DefenceID = d.TeamID\n",
    "  INNER JOIN [NFL_Prediction].[nfl].[d_weather] w on p.WeatherID = w.WeatherID\n",
    "  INNER JOIN [NFL_Prediction].[nfl].[d_surface] surf on p.SurfaceID = surf.SurfaceID\n",
    "  INNER JOIN [NFL_Prediction].[nfl].[d_seconds_buckets] qsb on p.SecondsLeftInQuarterBucketID = qsb.SecondsBucketID\n",
    "  INNER JOIN [NFL_Prediction].[nfl].[d_seconds_buckets] hsb on p.SecondsLeftInHalfBucketID = hsb.SecondsBucketID\n",
    "  INNER JOIN [NFL_Prediction].[nfl].[d_seconds_buckets] gsb on p.SecondsLeftInHalfBucketID = gsb.SecondsBucketID\n",
    "  INNER JOIN [NFL_Prediction].[nfl].[d_points_buckets] opb on p.OffensePointsBucketID = opb.PointsBucketID\n",
    "  INNER JOIN [NFL_Prediction].[nfl].[d_points_buckets] dpb on p.DefensePointsBucketID = dpb.PointsBucketID\n",
    "  INNER JOIN [NFL_Prediction].[nfl].[d_points_buckets] pdb on p.PointsDifferenceBucketID = pdb.PointsBucketID\n",
    "  where MainPlayerID is not null\n",
    "\"\"\""
   ]
  },
  {
   "cell_type": "code",
   "execution_count": 25,
   "metadata": {},
   "outputs": [],
   "source": [
    "import matplotlib\n",
    "import matplotlib.pyplot as plt\n",
    "import numpy as np\n",
    "import pandas as pd\n",
    "import seaborn as sns\n",
    "sns.set(style=\"white\")\n",
    "sns.set(style=\"whitegrid\", color_codes=True)"
   ]
  },
  {
   "cell_type": "code",
   "execution_count": 26,
   "metadata": {},
   "outputs": [],
   "source": [
    "import pyodbc\n",
    "sql_conn = pyodbc.connect('DRIVER={ODBC Driver 13 for SQL Server};SERVER=localhost\\\\uni;DATABASE=NFL_Prediction;Trusted_Connection=yes')\n",
    "df = pd.read_sql(query, sql_conn)"
   ]
  },
  {
   "cell_type": "code",
   "execution_count": 27,
   "metadata": {},
   "outputs": [
    {
     "data": {
      "text/plain": [
       "['FieldZoneID',\n",
       " 'ConditionTypeID',\n",
       " 'SpeedID',\n",
       " 'StadiumID',\n",
       " 'SurfaceTypeID',\n",
       " 'Shotgun',\n",
       " 'AtHome',\n",
       " 'QBisRookie',\n",
       " 'Down',\n",
       " 'yardsToGoBucket',\n",
       " 'TimeoutsLeft',\n",
       " 'SecondsInQuarterBucketID',\n",
       " 'MinutesLeftInQuarter',\n",
       " 'SecondsInHalfBucketID',\n",
       " 'SecondsInGameBucketID',\n",
       " 'GameQuarter',\n",
       " 'OffensePointsBucketID',\n",
       " 'DefensePointsBucketID',\n",
       " 'PointsDifferenceBucketID',\n",
       " 'OffenseWinLossRatio',\n",
       " 'DefenseWinLossRatio']"
      ]
     },
     "execution_count": 27,
     "metadata": {},
     "output_type": "execute_result"
    }
   ],
   "source": [
    "features = df.drop('PlayTypeID', axis=1).columns.values.tolist()\n",
    "y=['PlayTypeID']\n",
    "x=[i for i in features if i not in y]\n",
    "x"
   ]
  },
  {
   "cell_type": "code",
   "execution_count": 28,
   "metadata": {},
   "outputs": [
    {
     "data": {
      "text/plain": [
       "FieldZoneID                 639914\n",
       "PlayTypeID                  639914\n",
       "ConditionTypeID             639914\n",
       "SpeedID                     639914\n",
       "StadiumID                   639914\n",
       "SurfaceTypeID               639914\n",
       "Shotgun                     639914\n",
       "AtHome                      639914\n",
       "QBisRookie                  639914\n",
       "Down                        639914\n",
       "yardsToGoBucket             639914\n",
       "TimeoutsLeft                639914\n",
       "SecondsInQuarterBucketID    639914\n",
       "MinutesLeftInQuarter        639914\n",
       "SecondsInHalfBucketID       639914\n",
       "SecondsInGameBucketID       639914\n",
       "GameQuarter                 639914\n",
       "OffensePointsBucketID       639914\n",
       "DefensePointsBucketID       639914\n",
       "PointsDifferenceBucketID    639914\n",
       "OffenseWinLossRatio         639914\n",
       "DefenseWinLossRatio         639914\n",
       "dtype: int64"
      ]
     },
     "execution_count": 28,
     "metadata": {},
     "output_type": "execute_result"
    }
   ],
   "source": [
    "df.count()"
   ]
  },
  {
   "cell_type": "code",
   "execution_count": 29,
   "metadata": {},
   "outputs": [],
   "source": [
    "from sklearn.feature_selection import RFE\n",
    "from sklearn.linear_model import LogisticRegression"
   ]
  },
  {
   "cell_type": "code",
   "execution_count": 30,
   "metadata": {},
   "outputs": [],
   "source": [
    "logreg = LogisticRegression()"
   ]
  },
  {
   "cell_type": "code",
   "execution_count": 31,
   "metadata": {},
   "outputs": [
    {
     "data": {
      "text/html": [
       "<div>\n",
       "<style scoped>\n",
       "    .dataframe tbody tr th:only-of-type {\n",
       "        vertical-align: middle;\n",
       "    }\n",
       "\n",
       "    .dataframe tbody tr th {\n",
       "        vertical-align: top;\n",
       "    }\n",
       "\n",
       "    .dataframe thead th {\n",
       "        text-align: right;\n",
       "    }\n",
       "</style>\n",
       "<table border=\"1\" class=\"dataframe\">\n",
       "  <thead>\n",
       "    <tr style=\"text-align: right;\">\n",
       "      <th></th>\n",
       "      <th>FieldZoneID</th>\n",
       "      <th>ConditionTypeID</th>\n",
       "      <th>SpeedID</th>\n",
       "      <th>StadiumID</th>\n",
       "      <th>SurfaceTypeID</th>\n",
       "      <th>Shotgun</th>\n",
       "      <th>AtHome</th>\n",
       "      <th>QBisRookie</th>\n",
       "      <th>Down</th>\n",
       "      <th>yardsToGoBucket</th>\n",
       "      <th>...</th>\n",
       "      <th>SecondsInQuarterBucketID</th>\n",
       "      <th>MinutesLeftInQuarter</th>\n",
       "      <th>SecondsInHalfBucketID</th>\n",
       "      <th>SecondsInGameBucketID</th>\n",
       "      <th>GameQuarter</th>\n",
       "      <th>OffensePointsBucketID</th>\n",
       "      <th>DefensePointsBucketID</th>\n",
       "      <th>PointsDifferenceBucketID</th>\n",
       "      <th>OffenseWinLossRatio</th>\n",
       "      <th>DefenseWinLossRatio</th>\n",
       "    </tr>\n",
       "  </thead>\n",
       "  <tbody>\n",
       "    <tr>\n",
       "      <th>0</th>\n",
       "      <td>3</td>\n",
       "      <td>6</td>\n",
       "      <td>2</td>\n",
       "      <td>61</td>\n",
       "      <td>1</td>\n",
       "      <td>0</td>\n",
       "      <td>1</td>\n",
       "      <td>0</td>\n",
       "      <td>2</td>\n",
       "      <td>1</td>\n",
       "      <td>...</td>\n",
       "      <td>2</td>\n",
       "      <td>8</td>\n",
       "      <td>5</td>\n",
       "      <td>5</td>\n",
       "      <td>3</td>\n",
       "      <td>6</td>\n",
       "      <td>7</td>\n",
       "      <td>4</td>\n",
       "      <td>0</td>\n",
       "      <td>0</td>\n",
       "    </tr>\n",
       "    <tr>\n",
       "      <th>1</th>\n",
       "      <td>1</td>\n",
       "      <td>6</td>\n",
       "      <td>2</td>\n",
       "      <td>61</td>\n",
       "      <td>1</td>\n",
       "      <td>0</td>\n",
       "      <td>0</td>\n",
       "      <td>0</td>\n",
       "      <td>1</td>\n",
       "      <td>1</td>\n",
       "      <td>...</td>\n",
       "      <td>2</td>\n",
       "      <td>7</td>\n",
       "      <td>5</td>\n",
       "      <td>5</td>\n",
       "      <td>3</td>\n",
       "      <td>7</td>\n",
       "      <td>6</td>\n",
       "      <td>7</td>\n",
       "      <td>0</td>\n",
       "      <td>0</td>\n",
       "    </tr>\n",
       "    <tr>\n",
       "      <th>2</th>\n",
       "      <td>1</td>\n",
       "      <td>6</td>\n",
       "      <td>2</td>\n",
       "      <td>61</td>\n",
       "      <td>1</td>\n",
       "      <td>0</td>\n",
       "      <td>0</td>\n",
       "      <td>0</td>\n",
       "      <td>2</td>\n",
       "      <td>1</td>\n",
       "      <td>...</td>\n",
       "      <td>2</td>\n",
       "      <td>7</td>\n",
       "      <td>5</td>\n",
       "      <td>5</td>\n",
       "      <td>3</td>\n",
       "      <td>7</td>\n",
       "      <td>6</td>\n",
       "      <td>7</td>\n",
       "      <td>0</td>\n",
       "      <td>0</td>\n",
       "    </tr>\n",
       "  </tbody>\n",
       "</table>\n",
       "<p>3 rows × 21 columns</p>\n",
       "</div>"
      ],
      "text/plain": [
       "   FieldZoneID  ConditionTypeID  SpeedID  StadiumID  SurfaceTypeID  Shotgun  \\\n",
       "0            3                6        2         61              1        0   \n",
       "1            1                6        2         61              1        0   \n",
       "2            1                6        2         61              1        0   \n",
       "\n",
       "   AtHome  QBisRookie  Down  yardsToGoBucket  ...  SecondsInQuarterBucketID  \\\n",
       "0       1           0     2                1  ...                         2   \n",
       "1       0           0     1                1  ...                         2   \n",
       "2       0           0     2                1  ...                         2   \n",
       "\n",
       "   MinutesLeftInQuarter  SecondsInHalfBucketID  SecondsInGameBucketID  \\\n",
       "0                     8                      5                      5   \n",
       "1                     7                      5                      5   \n",
       "2                     7                      5                      5   \n",
       "\n",
       "   GameQuarter  OffensePointsBucketID  DefensePointsBucketID  \\\n",
       "0            3                      6                      7   \n",
       "1            3                      7                      6   \n",
       "2            3                      7                      6   \n",
       "\n",
       "   PointsDifferenceBucketID  OffenseWinLossRatio  DefenseWinLossRatio  \n",
       "0                         4                    0                    0  \n",
       "1                         7                    0                    0  \n",
       "2                         7                    0                    0  \n",
       "\n",
       "[3 rows x 21 columns]"
      ]
     },
     "execution_count": 31,
     "metadata": {},
     "output_type": "execute_result"
    }
   ],
   "source": [
    "# drop the prediction column\n",
    "play_df = df.drop(['PlayTypeID'], axis=1)\n",
    "play_df.head(3)"
   ]
  },
  {
   "cell_type": "code",
   "execution_count": 32,
   "metadata": {},
   "outputs": [
    {
     "data": {
      "text/plain": [
       "array([0, 1], dtype=int64)"
      ]
     },
     "execution_count": 32,
     "metadata": {},
     "output_type": "execute_result"
    }
   ],
   "source": [
    "# Split out the prediction column into separate dataframe\n",
    "predict_df = df.filter(['PlayTypeID'], axis=1)\n",
    "predict_df.PlayTypeID.unique()"
   ]
  },
  {
   "cell_type": "code",
   "execution_count": 33,
   "metadata": {},
   "outputs": [
    {
     "name": "stderr",
     "output_type": "stream",
     "text": [
      "C:\\Users\\tj610\\Anaconda3\\envs\\Uni\\lib\\site-packages\\sklearn\\linear_model\\logistic.py:432: FutureWarning: Default solver will be changed to 'lbfgs' in 0.22. Specify a solver to silence this warning.\n",
      "  FutureWarning)\n",
      "C:\\Users\\tj610\\Anaconda3\\envs\\Uni\\lib\\site-packages\\sklearn\\linear_model\\logistic.py:432: FutureWarning: Default solver will be changed to 'lbfgs' in 0.22. Specify a solver to silence this warning.\n",
      "  FutureWarning)\n"
     ]
    },
    {
     "name": "stdout",
     "output_type": "stream",
     "text": [
      "[ True  True  True False  True  True  True  True  True  True  True  True\n",
      "  True  True  True  True  True  True  True  True  True]\n",
      "[1 1 1 2 1 1 1 1 1 1 1 1 1 1 1 1 1 1 1 1 1]\n"
     ]
    }
   ],
   "source": [
    "rfe = RFE(logreg, 20)\n",
    "rfe = rfe.fit(play_df, predict_df.values.ravel())\n",
    "print(rfe.support_)\n",
    "print(rfe.ranking_)"
   ]
  },
  {
   "cell_type": "markdown",
   "metadata": {},
   "source": [
    "Use all columns apart from StadiumID!"
   ]
  },
  {
   "cell_type": "code",
   "execution_count": 34,
   "metadata": {},
   "outputs": [],
   "source": [
    "play_df = play_df.drop(['SpeedID'], axis=1)"
   ]
  },
  {
   "cell_type": "code",
   "execution_count": 35,
   "metadata": {},
   "outputs": [
    {
     "name": "stdout",
     "output_type": "stream",
     "text": [
      "Warning: Maximum number of iterations has been exceeded.\n",
      "         Current function value: 0.575607\n",
      "         Iterations: 35\n"
     ]
    },
    {
     "name": "stderr",
     "output_type": "stream",
     "text": [
      "C:\\Users\\tj610\\Anaconda3\\envs\\Uni\\lib\\site-packages\\statsmodels\\base\\model.py:512: ConvergenceWarning: Maximum Likelihood optimization failed to converge. Check mle_retvals\n",
      "  \"Check mle_retvals\", ConvergenceWarning)\n"
     ]
    },
    {
     "name": "stdout",
     "output_type": "stream",
     "text": [
      "                                    Results: Logit\n",
      "======================================================================================\n",
      "Model:                      Logit                  Pseudo R-squared:       0.158      \n",
      "Dependent Variable:         PlayTypeID             AIC:                    736715.5496\n",
      "Date:                       2020-01-03 13:59       BIC:                    736931.5623\n",
      "No. Observations:           639914                 Log-Likelihood:         -3.6834e+05\n",
      "Df Model:                   18                     LL-Null:                -4.3745e+05\n",
      "Df Residuals:               639895                 LLR p-value:            0.0000     \n",
      "Converged:                  0.0000                 Scale:                  1.0000     \n",
      "No. Iterations:             35.0000                                                   \n",
      "--------------------------------------------------------------------------------------\n",
      "                          Coef.    Std.Err.      z     P>|z|     [0.025       0.975]  \n",
      "--------------------------------------------------------------------------------------\n",
      "FieldZoneID                0.0532     0.0022   23.7714 0.0000       0.0489      0.0576\n",
      "ConditionTypeID           -0.0097     0.0028   -3.4297 0.0006      -0.0152     -0.0041\n",
      "StadiumID                 -0.0000     0.0001   -0.1336 0.8937      -0.0002      0.0002\n",
      "SurfaceTypeID              0.0417     0.0057    7.2675 0.0000       0.0305      0.0530\n",
      "Shotgun                   -1.3886     0.0064 -216.0349 0.0000      -1.4012     -1.3760\n",
      "AtHome                    -0.0397     0.0057   -6.9990 0.0000      -0.0508     -0.0286\n",
      "QBisRookie               -23.2163   770.7805   -0.0301 0.9760   -1533.9184   1487.4858\n",
      "Down                      -0.3693     0.0036 -101.1908 0.0000      -0.3765     -0.3621\n",
      "yardsToGoBucket           -0.2032     0.0053  -38.4803 0.0000      -0.2136     -0.1929\n",
      "TimeoutsLeft               0.1498     0.0043   34.8765 0.0000       0.1414      0.1582\n",
      "SecondsInQuarterBucketID  -0.0710     0.0105   -6.7639 0.0000      -0.0915     -0.0504\n",
      "MinutesLeftInQuarter       0.0130     0.0019    6.6873 0.0000       0.0092      0.0168\n",
      "SecondsInHalfBucketID      0.0038 83891.7167    0.0000 1.0000 -164424.7395 164424.7471\n",
      "SecondsInGameBucketID      0.0038 83891.7167    0.0000 1.0000 -164424.7395 164424.7471\n",
      "GameQuarter                0.0181     0.0035    5.1354 0.0000       0.0112      0.0250\n",
      "OffensePointsBucketID      0.2240     0.0066   33.9586 0.0000       0.2111      0.2369\n",
      "DefensePointsBucketID     -0.1952     0.0045  -43.2195 0.0000      -0.2040     -0.1863\n",
      "PointsDifferenceBucketID   0.0881     0.0046   18.9698 0.0000       0.0790      0.0972\n",
      "OffenseWinLossRatio       -0.0078     0.0007  -11.7511 0.0000      -0.0091     -0.0065\n",
      "DefenseWinLossRatio       -0.0108     0.0007  -16.1670 0.0000      -0.0121     -0.0095\n",
      "======================================================================================\n",
      "\n"
     ]
    }
   ],
   "source": [
    "import statsmodels.api as sm\n",
    "logit_model=sm.Logit(predict_df, play_df)\n",
    "result=logit_model.fit()\n",
    "print(result.summary2())"
   ]
  },
  {
   "cell_type": "code",
   "execution_count": 36,
   "metadata": {},
   "outputs": [
    {
     "name": "stdout",
     "output_type": "stream",
     "text": [
      "Optimization terminated successfully.\n",
      "         Current function value: 0.596028\n",
      "         Iterations 5\n",
      "                              Results: Logit\n",
      "==========================================================================\n",
      "Model:                  Logit              Pseudo R-squared:   0.128      \n",
      "Dependent Variable:     PlayTypeID         AIC:                762845.2681\n",
      "Date:                   2020-01-03 14:00   BIC:                763027.1735\n",
      "No. Observations:       639914             Log-Likelihood:     -3.8141e+05\n",
      "Df Model:               15                 LL-Null:            -4.3745e+05\n",
      "Df Residuals:           639898             LLR p-value:        0.0000     \n",
      "Converged:              1.0000             Scale:              1.0000     \n",
      "No. Iterations:         5.0000                                            \n",
      "--------------------------------------------------------------------------\n",
      "                          Coef.  Std.Err.     z     P>|z|   [0.025  0.975]\n",
      "--------------------------------------------------------------------------\n",
      "FieldZoneID               0.0566   0.0022   25.6952 0.0000  0.0523  0.0609\n",
      "ConditionTypeID          -0.0091   0.0028   -3.2825 0.0010 -0.0145 -0.0037\n",
      "SurfaceTypeID             0.0301   0.0056    5.3638 0.0000  0.0191  0.0411\n",
      "Shotgun                  -1.3915   0.0063 -219.2949 0.0000 -1.4040 -1.3791\n",
      "AtHome                   -0.0449   0.0056   -8.0591 0.0000 -0.0558 -0.0340\n",
      "Down                     -0.3745   0.0036 -104.1500 0.0000 -0.3816 -0.3675\n",
      "yardsToGoBucket          -0.2118   0.0052  -40.6137 0.0000 -0.2220 -0.2016\n",
      "TimeoutsLeft              0.1535   0.0040   38.2797 0.0000  0.1456  0.1613\n",
      "SecondsInQuarterBucketID -0.0705   0.0101   -6.9525 0.0000 -0.0904 -0.0506\n",
      "MinutesLeftInQuarter      0.0144   0.0019    7.5157 0.0000  0.0106  0.0181\n",
      "GameQuarter               0.0143   0.0032    4.4752 0.0000  0.0081  0.0206\n",
      "OffensePointsBucketID     0.2390   0.0065   36.8232 0.0000  0.2263  0.2517\n",
      "DefensePointsBucketID    -0.2154   0.0044  -48.8430 0.0000 -0.2240 -0.2067\n",
      "PointsDifferenceBucketID  0.0858   0.0046   18.8317 0.0000  0.0769  0.0948\n",
      "OffenseWinLossRatio      -0.0014   0.0007   -2.1405 0.0323 -0.0027 -0.0001\n",
      "DefenseWinLossRatio      -0.0047   0.0007   -7.0929 0.0000 -0.0059 -0.0034\n",
      "==========================================================================\n",
      "\n"
     ]
    }
   ],
   "source": [
    "import statsmodels.api as sm\n",
    "logit_model=sm.Logit(predict_df, play_df.drop(['QBisRookie', 'SecondsInHalfBucketID', 'SecondsInGameBucketID', 'StadiumID'], axis=1))\n",
    "result=logit_model.fit()\n",
    "print(result.summary2())"
   ]
  },
  {
   "cell_type": "code",
   "execution_count": 37,
   "metadata": {},
   "outputs": [
    {
     "name": "stderr",
     "output_type": "stream",
     "text": [
      "C:\\Users\\tj610\\Anaconda3\\envs\\Uni\\lib\\site-packages\\sklearn\\linear_model\\logistic.py:432: FutureWarning: Default solver will be changed to 'lbfgs' in 0.22. Specify a solver to silence this warning.\n",
      "  FutureWarning)\n",
      "C:\\Users\\tj610\\Anaconda3\\envs\\Uni\\lib\\site-packages\\sklearn\\utils\\validation.py:724: DataConversionWarning: A column-vector y was passed when a 1d array was expected. Please change the shape of y to (n_samples, ), for example using ravel().\n",
      "  y = column_or_1d(y, warn=True)\n"
     ]
    },
    {
     "data": {
      "text/plain": [
       "LogisticRegression(C=1.0, class_weight=None, dual=False, fit_intercept=True,\n",
       "                   intercept_scaling=1, l1_ratio=None, max_iter=100,\n",
       "                   multi_class='warn', n_jobs=None, penalty='l2',\n",
       "                   random_state=None, solver='warn', tol=0.0001, verbose=0,\n",
       "                   warm_start=False)"
      ]
     },
     "execution_count": 37,
     "metadata": {},
     "output_type": "execute_result"
    }
   ],
   "source": [
    "from sklearn.linear_model import LogisticRegression\n",
    "from sklearn.model_selection import train_test_split\n",
    "from sklearn import metrics\n",
    "X_train, X_test, y_train, y_test = train_test_split(play_df, predict_df, test_size=0.3, random_state=0)\n",
    "logreg = LogisticRegression()\n",
    "logreg.fit(X_train, y_train)"
   ]
  },
  {
   "cell_type": "code",
   "execution_count": 38,
   "metadata": {},
   "outputs": [
    {
     "name": "stdout",
     "output_type": "stream",
     "text": [
      "Accuracy of logistic regression classifier on test set: 68.71\n"
     ]
    }
   ],
   "source": [
    "y_pred = logreg.predict(X_test)\n",
    "print('Accuracy of logistic regression classifier on test set: {:.2f}'.format(logreg.score(X_test, y_test)*100))"
   ]
  },
  {
   "cell_type": "code",
   "execution_count": 39,
   "metadata": {},
   "outputs": [
    {
     "name": "stdout",
     "output_type": "stream",
     "text": [
      "[[73824 35467]\n",
      " [24611 58073]]\n"
     ]
    },
    {
     "data": {
      "text/plain": [
       "<matplotlib.axes._subplots.AxesSubplot at 0x2a73dbc3b70>"
      ]
     },
     "execution_count": 39,
     "metadata": {},
     "output_type": "execute_result"
    },
    {
     "data": {
      "image/png": "[encoded data removed]",
      "text/plain": [
       "<Figure size 720x504 with 2 Axes>"
      ]
     },
     "metadata": {},
     "output_type": "display_data"
    }
   ],
   "source": [
    "from sklearn.metrics import confusion_matrix\n",
    "confusion_matrix = confusion_matrix(y_test, y_pred)\n",
    "print(confusion_matrix)\n",
    "\n",
    "import seaborn as sns\n",
    "plt.figure(figsize = (10,7))\n",
    "sns.heatmap(confusion_matrix, annot=False)"
   ]
  },
  {
   "cell_type": "code",
   "execution_count": 40,
   "metadata": {},
   "outputs": [
    {
     "name": "stdout",
     "output_type": "stream",
     "text": [
      "              precision    recall  f1-score   support\n",
      "\n",
      "           0       0.75      0.68      0.71    109291\n",
      "           1       0.62      0.70      0.66     82684\n",
      "\n",
      "    accuracy                           0.69    191975\n",
      "   macro avg       0.69      0.69      0.68    191975\n",
      "weighted avg       0.69      0.69      0.69    191975\n",
      "\n"
     ]
    }
   ],
   "source": [
    "from sklearn.metrics import classification_report\n",
    "print(classification_report(y_test, y_pred))"
   ]
  },
  {
   "cell_type": "code",
   "execution_count": 41,
   "metadata": {},
   "outputs": [
    {
     "data": {
      "image/png": "[encoded data removed]",
      "text/plain": [
       "<Figure size 432x288 with 1 Axes>"
      ]
     },
     "metadata": {},
     "output_type": "display_data"
    }
   ],
   "source": [
    "from sklearn.metrics import roc_auc_score\n",
    "from sklearn.metrics import roc_curve\n",
    "logit_roc_auc = roc_auc_score(y_test, logreg.predict(X_test))\n",
    "fpr, tpr, thresholds = roc_curve(y_test, logreg.predict_proba(X_test)[:,1])\n",
    "plt.figure()\n",
    "plt.plot(fpr, tpr, label='Logistic Regression (area = %0.2f)' % logit_roc_auc)\n",
    "plt.plot([0, 1], [0, 1],'r--')\n",
    "plt.xlim([0.0, 1.0])\n",
    "plt.ylim([0.0, 1.05])\n",
    "plt.xlabel('False Positive Rate')\n",
    "plt.ylabel('True Positive Rate')\n",
    "plt.title('Receiver operating characteristic')\n",
    "plt.legend(loc=\"lower right\")\n",
    "plt.savefig('Log_ROC')\n",
    "plt.show()"
   ]
  },
  {
   "cell_type": "code",
   "execution_count": 42,
   "metadata": {},
   "outputs": [
    {
     "data": {
      "text/plain": [
       "array([0.5921894 , 0.38941958, 0.19689679, ..., 0.66769668, 0.47419758,\n",
       "       0.33597825])"
      ]
     },
     "execution_count": 42,
     "metadata": {},
     "output_type": "execute_result"
    }
   ],
   "source": [
    "logreg.predict_proba(X_test)[:,1]"
   ]
  },
  {
   "cell_type": "code",
   "execution_count": 43,
   "metadata": {},
   "outputs": [],
   "source": [
    "y_pred_df = pd.DataFrame(y_pred)\n",
    "y_test_np = y_test.to_numpy()\n",
    "y_pred_np = y_pred_df.to_numpy()\n",
    "check_prediction_df = pd.DataFrame(np.concatenate((y_test_np, y_pred_np), axis=1))\n",
    "check_prediction_df[0] = check_prediction_df[0] + 1\n",
    "check_prediction_df[1] = check_prediction_df[1] + 1\n",
    "check_prediction_df['correct'] = np.where(check_prediction_df[0] == check_prediction_df[1], 'yes', 'no')"
   ]
  },
  {
   "cell_type": "code",
   "execution_count": 44,
   "metadata": {},
   "outputs": [
    {
     "data": {
      "image/png": "[encoded data removed]",
      "text/plain": [
       "<Figure size 1080x720 with 1 Axes>"
      ]
     },
     "metadata": {},
     "output_type": "display_data"
    }
   ],
   "source": [
    "agg_df = check_prediction_df.groupby([0,'correct']).count()\n",
    "ax = agg_df.plot(kind='bar', title =\"Accuracy\", figsize=(15, 10), legend=False, fontsize=12)\n",
    "ax.set_xlabel(\"(PassType, Correct Prediction)\", fontsize=12)\n",
    "ax.set_ylabel(\"Number of correct predictions\", fontsize=12)\n",
    "plt.show()"
   ]
  },
  {
   "cell_type": "code",
   "execution_count": null,
   "metadata": {},
   "outputs": [],
   "source": []
  }
 ],
 "metadata": {
  "kernelspec": {
   "display_name": "Python [conda env:uni] *",
   "language": "python",
   "name": "conda-env-uni-py"
  },
  "language_info": {
   "codemirror_mode": {
    "name": "ipython",
    "version": 3
   },
   "file_extension": ".py",
   "mimetype": "text/x-python",
   "name": "python",
   "nbconvert_exporter": "python",
   "pygments_lexer": "ipython3",
   "version": "3.6.8"
  }
 },
 "nbformat": 4,
 "nbformat_minor": 2
}
